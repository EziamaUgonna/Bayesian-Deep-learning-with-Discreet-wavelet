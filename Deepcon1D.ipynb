{
  "nbformat": 4,
  "nbformat_minor": 0,
  "metadata": {
    "colab": {
      "name": "Deepcon1D.ipynb",
      "provenance": [],
      "collapsed_sections": [],
      "include_colab_link": true
    },
    "kernelspec": {
      "name": "python3",
      "display_name": "Python 3"
    },
    "accelerator": "TPU"
  },
  "cells": [
    {
      "cell_type": "markdown",
      "metadata": {
        "id": "view-in-github",
        "colab_type": "text"
      },
      "source": [
        "<a href=\"https://colab.research.google.com/github/EziamaUgonna/Bayesian_analysis-/blob/master/Deepcon1D.ipynb\" target=\"_parent\"><img src=\"https://colab.research.google.com/assets/colab-badge.svg\" alt=\"Open In Colab\"/></a>"
      ]
    },
    {
      "cell_type": "code",
      "metadata": {
        "id": "q1jGcSfCtQFl",
        "colab_type": "code",
        "outputId": "46a59cca-c316-49e8-9630-a4a0726e743a",
        "colab": {
          "base_uri": "https://localhost:8080/",
          "height": 102
        }
      },
      "source": [
        "try:\n",
        "  # % tensorflow_version only exist in colab\n",
        "  %tensorflow_version 2.\n",
        "except Exception:\n",
        "   pass"
      ],
      "execution_count": 1,
      "outputs": [
        {
          "output_type": "stream",
          "text": [
            "`%tensorflow_version` only switches the major version: `1.x` or `2.x`.\n",
            "You set: `2.`. This will be interpreted as: `2.x`.\n",
            "\n",
            "\n",
            "TensorFlow 2.x selected.\n"
          ],
          "name": "stdout"
        }
      ]
    },
    {
      "cell_type": "code",
      "metadata": {
        "id": "J1va_a0bdzNq",
        "colab_type": "code",
        "outputId": "6a58a530-e31a-48aa-d78a-909fee197cfa",
        "colab": {
          "base_uri": "https://localhost:8080/",
          "height": 85
        }
      },
      "source": [
        "!pip install h5py pyyaml"
      ],
      "execution_count": 2,
      "outputs": [
        {
          "output_type": "stream",
          "text": [
            "Requirement already satisfied: h5py in /tensorflow-2.1.0/python3.6 (2.10.0)\n",
            "Requirement already satisfied: pyyaml in /usr/local/lib/python3.6/dist-packages (3.13)\n",
            "Requirement already satisfied: numpy>=1.7 in /tensorflow-2.1.0/python3.6 (from h5py) (1.18.1)\n",
            "Requirement already satisfied: six in /tensorflow-2.1.0/python3.6 (from h5py) (1.14.0)\n"
          ],
          "name": "stdout"
        }
      ]
    },
    {
      "cell_type": "code",
      "metadata": {
        "id": "Ar827DdDzrSs",
        "colab_type": "code",
        "outputId": "75009a95-0e7d-49e5-9c5e-dc75447c4ffd",
        "colab": {
          "base_uri": "https://localhost:8080/",
          "height": 156
        }
      },
      "source": [
        "# Packages\n",
        "import numpy as np\n",
        "from numpy.random import seed\n",
        "seed(1)\n",
        "import pandas as pd\n",
        "import matplotlib\n",
        "import matplotlib.pyplot as plt\n",
        "import seaborn as sns\n",
        "#import vaex\n",
        "from sklearn.dummy import DummyRegressor\n",
        "from sklearn.model_selection import cross_val_score\n",
        "from sklearn.model_selection import cross_val_predict\n",
        "import tensorflow as tf\n",
        "#tf.random.set_seed(123)\n",
        "import tensorflow_probability as tfp\n",
        "tfd = tfp.distributions\n",
        "#from tensorflow_probability.python.math import random_rademacher\n",
        "from tensorflow.keras import Sequential\n",
        "from tensorflow.keras.layers import Dense, BatchNormalization,concatenate,PReLU\n",
        "from tensorflow.keras.layers import ReLU, Dropout,Flatten, Conv1D,MaxPooling1D,Reshape,Input,GaussianNoise\n",
        "from tensorflow.keras.optimizers import Adam\n",
        "# Settings\n",
        "from tensorflow import keras\n",
        "from sklearn.model_selection import train_test_split\n",
        "from tensorflow.keras import layers\n",
        "from sklearn.preprocessing import StandardScaler\n",
        "from sklearn.preprocessing import MinMaxScaler\n",
        "from tensorflow.keras.callbacks import ModelCheckpoint , EarlyStopping\n",
        "from tensorflow.keras.wrappers.scikit_learn import KerasClassifier\n",
        "from sklearn.ensemble import VotingClassifier\n",
        "\n",
        "from sklearn.metrics import accuracy_score,confusion_matrix, accuracy_score, precision_score, recall_score, f1_score, roc_curve,classification_report,roc_auc_score\n",
        "from imblearn.metrics import geometric_mean_score as gmean \n",
        "from imblearn.metrics import make_index_balanced_accuracy as iba\n",
        "from imblearn.metrics import classification_report_imbalanced\n",
        "from statsmodels.robust import mad\n",
        "import pywt \n",
        "from scipy.signal import butter, deconvolve\n",
        "from scipy import signal\n",
        "sns.set()\n",
        "from sklearn.preprocessing import MinMaxScaler\n",
        "%config InlineBackend.figure_format = 'svg'\n",
        "np.random.seed(12345)\n",
        "tf.__version__"
      ],
      "execution_count": 3,
      "outputs": [
        {
          "output_type": "stream",
          "text": [
            "/usr/local/lib/python3.6/dist-packages/sklearn/externals/six.py:31: FutureWarning: The module is deprecated in version 0.21 and will be removed in version 0.23 since we've dropped support for Python 2.7. Please rely on the official version of six (https://pypi.org/project/six/).\n",
            "  \"(https://pypi.org/project/six/).\", FutureWarning)\n",
            "/usr/local/lib/python3.6/dist-packages/sklearn/utils/deprecation.py:144: FutureWarning: The sklearn.neighbors.base module is  deprecated in version 0.22 and will be removed in version 0.24. The corresponding classes / functions should instead be imported from sklearn.neighbors. Anything that cannot be imported from sklearn.neighbors is now part of the private API.\n",
            "  warnings.warn(message, FutureWarning)\n",
            "/usr/local/lib/python3.6/dist-packages/sklearn/utils/deprecation.py:144: FutureWarning: The sklearn.metrics.classification module is  deprecated in version 0.22 and will be removed in version 0.24. The corresponding classes / functions should instead be imported from sklearn.metrics. Anything that cannot be imported from sklearn.metrics is now part of the private API.\n",
            "  warnings.warn(message, FutureWarning)\n"
          ],
          "name": "stderr"
        },
        {
          "output_type": "execute_result",
          "data": {
            "text/plain": [
              "'2.1.0'"
            ]
          },
          "metadata": {
            "tags": []
          },
          "execution_count": 3
        }
      ]
    },
    {
      "cell_type": "code",
      "metadata": {
        "id": "9-UPr2BWzrW5",
        "colab_type": "code",
        "outputId": "1805f24f-b08f-4688-cc22-b1328d27fa1c",
        "colab": {
          "base_uri": "https://localhost:8080/",
          "height": 122
        }
      },
      "source": [
        "from google.colab import drive\n",
        "drive.mount(\"/content/drive\")"
      ],
      "execution_count": 4,
      "outputs": [
        {
          "output_type": "stream",
          "text": [
            "Go to this URL in a browser: https://accounts.google.com/o/oauth2/auth?client_id=947318989803-6bn6qk8qdgf4n4g3pfee6491hc0brc4i.apps.googleusercontent.com&redirect_uri=urn%3aietf%3awg%3aoauth%3a2.0%3aoob&response_type=code&scope=email%20https%3a%2f%2fwww.googleapis.com%2fauth%2fdocs.test%20https%3a%2f%2fwww.googleapis.com%2fauth%2fdrive%20https%3a%2f%2fwww.googleapis.com%2fauth%2fdrive.photos.readonly%20https%3a%2f%2fwww.googleapis.com%2fauth%2fpeopleapi.readonly\n",
            "\n",
            "Enter your authorization code:\n",
            "··········\n",
            "Mounted at /content/drive\n"
          ],
          "name": "stdout"
        }
      ]
    },
    {
      "cell_type": "code",
      "metadata": {
        "id": "vOPc-zY7zra1",
        "colab_type": "code",
        "colab": {}
      },
      "source": [
        "!ls \"/content/drive/My Drive/project_data/Bias_sensor1\""
      ],
      "execution_count": 0,
      "outputs": []
    },
    {
      "cell_type": "code",
      "metadata": {
        "id": "xvyWcjRk1g1u",
        "colab_type": "code",
        "colab": {}
      },
      "source": [
        "df1 = pd.read_csv('/content/drive/My Drive/project_data/Bias_sensor1/Sensor1_values_bias_0_1_dur_10_dep.csv').astype(np.float32)\n",
        "df2 = pd.read_csv('/content/drive/My Drive/project_data/Bias_sensor1/Ground_truth_bias_0_1_dur_10_sensor1_dep_train.csv')\n",
        "df1 = df1.values\n",
        "df2 = df2.values"
      ],
      "execution_count": 0,
      "outputs": []
    },
    {
      "cell_type": "code",
      "metadata": {
        "id": "TeoPFGRV3_Aa",
        "colab_type": "code",
        "colab": {}
      },
      "source": [
        "from sklearn.preprocessing import MinMaxScaler\n",
        "from sklearn.model_selection import train_test_split\n",
        "X_train ,X_test, y_train,y_test  = train_test_split(df1,df2, test_size=0.2, random_state=200)\n",
        "X_train, X_test = np.array(X_train, np.float32), np.array(X_test, np.float32)\n"
      ],
      "execution_count": 0,
      "outputs": []
    },
    {
      "cell_type": "code",
      "metadata": {
        "id": "rt5Ekma30b40",
        "colab_type": "code",
        "colab": {}
      },
      "source": [
        "cls = 2\n",
        "size = 75*15\n",
        "batchsize = 8\n",
        "epochs =4000"
      ],
      "execution_count": 0,
      "outputs": []
    },
    {
      "cell_type": "code",
      "metadata": {
        "id": "jBxXRyz28lSp",
        "colab_type": "code",
        "colab": {}
      },
      "source": [
        "# Standardize the dataset \n",
        "scaler = StandardScaler()\n",
        "X_train_scaled = scaler.fit_transform(X_train.astype(np.float32))\n",
        "#X_valid_scaled = scaler.transform(X_valid.astype(np.float32))\n",
        "X_test_scaled = scaler.transform(X_test.astype(np.float32))\n",
        "\n"
      ],
      "execution_count": 0,
      "outputs": []
    },
    {
      "cell_type": "code",
      "metadata": {
        "id": "AqxFFhLPbYWR",
        "colab_type": "code",
        "colab": {}
      },
      "source": [
        "# =  X_train_scaled.reshape(X_train_scaled.shape[0],X_train_scaled.shape[1],1 )\n",
        "#X_test_scaled =  X_test_scaled.reshape(X_test_scaled.shape[0],X_test_scaled.shape[1],1 )\n",
        "#X_test_scaled.shape, X_train_scaled.shape\n",
        "#X_test_scaled.shape[2], X_test_scaled.shape[1]"
      ],
      "execution_count": 0,
      "outputs": []
    },
    {
      "cell_type": "code",
      "metadata": {
        "id": "nx2w4TtMq3SW",
        "colab_type": "code",
        "colab": {}
      },
      "source": [
        "input_dim = X_train_scaled.shape[1]\n",
        "\n",
        "feature = Input(shape = (input_dim, 1))\n",
        "     \n",
        "x = GaussianNoise(0.01)(feature)\n",
        "x = Conv1D(filters= 128, kernel_size = 8, strides=4, padding='same', dilation_rate=1, \n",
        "            activation='relu', use_bias=True, kernel_initializer='glorot_uniform',\n",
        "            bias_initializer='zeros', kernel_regularizer=None, bias_regularizer=None, \n",
        "            activity_regularizer=None, kernel_constraint=None, bias_constraint=None,\n",
        "            name = 'conv1D_1')(x)\n",
        "x = BatchNormalization()(x)\n",
        "#     x = PReLU()(x)\n",
        "#x = MaxPooling1D(pool_size=2, strides=1, name = 'MP_1')(x)\n",
        "#     x = Dropout(0.25)(x)\n",
        "x = Flatten(name = 'flat_1')(x)\n",
        "     \n",
        "\"\"\"x_x = GaussianNoise(0.01)(feature)\n",
        "x_x = Conv1D(filters= 64, kernel_size = 12, strides= 6, padding='same', dilation_rate=1, \n",
        "            activation='relu', use_bias=True, kernel_initializer='glorot_uniform',\n",
        "            bias_initializer='zeros', kernel_regularizer=None, bias_regularizer=None, \n",
        "            activity_regularizer=None, kernel_constraint=None, bias_constraint=None,\n",
        "            name = 'conv1D_2')(x_x)\n",
        "x_x = BatchNormalization()(x_x)\n",
        "#     x_x = PReLU()(x_x)\n",
        "#x_x = MaxPooling1D(pool_size=2, strides=2, name = 'MP_2')(x_x)\n",
        "#     x_x = Dropout(0.25)(x_x)\n",
        "x_x = Flatten()(x_x)\"\"\"\n",
        "     \n",
        "x_x_x = GaussianNoise(0.01)(feature)\n",
        "x_x_x = Conv1D(filters= 32, kernel_size = 16, strides= 8, padding='same', dilation_rate=1, \n",
        "            activation='relu', use_bias=True, kernel_initializer='glorot_uniform',\n",
        "            bias_initializer='zeros', kernel_regularizer=None, bias_regularizer=None, \n",
        "            activity_regularizer=None, kernel_constraint=None, bias_constraint=None,\n",
        "            name = 'conv1D_3')(x_x_x)\n",
        "x_x_x = BatchNormalization()(x_x_x)\n",
        "#     x_x_x = PReLU()(x_x_x)\n",
        "#x_x_x = MaxPooling1D(pool_size=2, strides=2, name = 'MP_3')(x_x_x)\n",
        "#     x_x_x = Dropout(0.25)(x_x_x)\n",
        "x_x_x = Flatten()(x_x_x)\n",
        "     \n",
        "feature_f = GaussianNoise(0.01)(feature)\n",
        "#     feature_f = MaxPooling1D(pool_size=4, strides=2, name = 'MP_4')(feature_f)\n",
        "#     feature_f = Dropout(0.25)(feature_f)\n",
        "feature_f = Flatten(name = 'flat_2')(feature_f)\n",
        "     #\n",
        "x = concatenate([x, x_x_x, feature_f])\n",
        "     \n",
        "x = Dense(256, activation = 'relu', name = 'dense_1')(x)\n",
        "x = BatchNormalization()(x)\n",
        "x = PReLU()(x)\n",
        "     \n",
        "x = Dense(128, activation = 'relu', name = 'dense_2')(x) #increase the dimension here for better speration in stage2 ?\n",
        "x = BatchNormalization()(x)\n",
        "x = PReLU()(x)\n",
        "     \n",
        "x = Dropout(0.5)(x)\n",
        "pred = Dense(1, activation = 'sigmoid', name = 'dense_3')(x)\n",
        "     \n",
        "model = keras.Model(feature, pred)\n",
        "\n",
        "     \n",
        "\n",
        "checkpointer1 = ModelCheckpoint(filepath = 'model.weights.best.hdf5', monitor ='val_accuracy', verbose = 2, save_best_only= True)\n",
        "checkpointer2 = EarlyStopping(monitor= 'val_accuracy', min_delta=0.0005, patience= 5, verbose = 2, mode = 'auto')\n",
        "\n",
        "model.compile( optimizer= tf.keras.optimizers.Adam(lr =0.0001), loss= 'binary_crossentropy',  metrics=['accuracy'])\n",
        "     \n",
        "X_train_scaled = X_train_scaled.reshape(X_train_scaled.shape[0], X_train_scaled.shape[1], 1)\n",
        "X_test_scaled = X_test_scaled.reshape(X_test_scaled.shape[0], X_test_scaled.shape[1], 1)\n",
        "history = model.fit(x=X_train_scaled, y=y_train,\n",
        "                         batch_size = batchsize,\n",
        "                         epochs = epochs, verbose = 0,\n",
        "                         validation_split = 0.2,\n",
        "#                         validation_data = (x_test_std, y_test),\n",
        "                         callbacks=[checkpointer1,checkpointer2])\n",
        "     "
      ],
      "execution_count": 0,
      "outputs": []
    },
    {
      "cell_type": "code",
      "metadata": {
        "id": "DHwqG3gaqOp7",
        "colab_type": "code",
        "colab": {}
      },
      "source": [
        "model.save_weights('model.weights.best.hdf5')"
      ],
      "execution_count": 0,
      "outputs": []
    }
  ]
}