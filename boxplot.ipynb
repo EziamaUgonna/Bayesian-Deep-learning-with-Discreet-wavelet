{
  "nbformat": 4,
  "nbformat_minor": 0,
  "metadata": {
    "colab": {
      "name": "boxplot.ipynb",
      "provenance": [],
      "collapsed_sections": [],
      "include_colab_link": true
    },
    "kernelspec": {
      "name": "python3",
      "display_name": "Python 3"
    }
  },
  "cells": [
    {
      "cell_type": "markdown",
      "metadata": {
        "id": "view-in-github",
        "colab_type": "text"
      },
      "source": [
        "<a href=\"https://colab.research.google.com/github/EziamaUgonna/Bayesian_analysis-/blob/master/boxplot.ipynb\" target=\"_parent\"><img src=\"https://colab.research.google.com/assets/colab-badge.svg\" alt=\"Open In Colab\"/></a>"
      ]
    },
    {
      "cell_type": "code",
      "metadata": {
        "id": "7CpHacIwMVGv",
        "colab_type": "code",
        "colab": {
          "base_uri": "https://localhost:8080/",
          "height": 381
        },
        "outputId": "2fd3453e-7f81-4522-f420-55b195fd6e8a"
      },
      "source": [
        "import pandas as pd\n",
        "import numpy as np\n",
        "from matplotlib import pyplot as plt\n",
        "import seaborn as sns\n",
        "\n",
        "np.random.seed(44)\n",
        "# DATAFRAMES WITH TRIAL COLUMN ASSIGNED\n",
        "df1 = pd.DataFrame(np.random.randn(5,5), columns=list(range(1,6))).assign(Trial=1)\n",
        "df2 = pd.DataFrame(np.random.randn(5,5), columns=list(range(1,6))).assign(Trial=2)\n",
        "df3 = pd.DataFrame(np.random.randn(5,5), columns=list(range(1,6))).assign(Trial=3)\n",
        "\n",
        "cdf = pd.concat([df1, df2, df3])   \n",
        "cdf                             # CONCATENATE\n",
        "mdf = pd.melt(cdf, id_vars=['Trial'], var_name=['Number'])      # MELT\n",
        "\n",
        "print(mdf.head())\n",
        "#    Trial Number     value\n",
        "# 0      1      1 -0.750615\n",
        "# 1      1      1 -1.715070\n",
        "# 2      1      1 -0.963404\n",
        "# 3      1      1  0.360856\n",
        "# 4      1      1 -1.190504\n",
        "\n",
        "ax = sns.boxplot(x=\"Trial\", y=\"value\",  data=mdf)  # RUN PLOT   \n",
        "plt.show()\n",
        "\n",
        "plt.clf()\n",
        "plt.close()"
      ],
      "execution_count": 3,
      "outputs": [
        {
          "output_type": "stream",
          "text": [
            "   Trial Number     value\n",
            "0      1      1 -0.750615\n",
            "1      1      1 -1.715070\n",
            "2      1      1 -0.963404\n",
            "3      1      1  0.360856\n",
            "4      1      1 -1.190504\n"
          ],
          "name": "stdout"
        },
        {
          "output_type": "display_data",
          "data": {
            "image/png": "[encoded data removed]",
            "text/plain": [
              "<Figure size 432x288 with 1 Axes>"
            ]
          },
          "metadata": {
            "tags": []
          }
        }
      ]
    }
  ]
}