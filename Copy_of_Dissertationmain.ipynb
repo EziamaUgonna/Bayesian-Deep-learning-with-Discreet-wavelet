{
  "nbformat": 4,
  "nbformat_minor": 0,
  "metadata": {
    "colab": {
      "name": "Copy of  Dissertationmain.ipynb",
      "version": "0.3.2",
      "provenance": [],
      "collapsed_sections": [],
      "include_colab_link": true
    },
    "kernelspec": {
      "name": "python3",
      "display_name": "Python 3"
    },
    "accelerator": "TPU"
  },
  "cells": [
    {
      "cell_type": "markdown",
      "metadata": {
        "id": "view-in-github",
        "colab_type": "text"
      },
      "source": [
        "<a href=\"https://colab.research.google.com/github/EziamaUgonna/Bayesian_analysis-/blob/master/Copy_of_Dissertationmain.ipynb\" target=\"_parent\"><img src=\"https://colab.research.google.com/assets/colab-badge.svg\" alt=\"Open In Colab\"/></a>"
      ]
    },
    {
      "cell_type": "code",
      "metadata": {
        "id": "Y8RKLzCFYprQ",
        "colab_type": "code",
        "outputId": "1d9ee7bf-c410-4d77-d3d8-b59532eeb7bb",
        "colab": {
          "base_uri": "https://localhost:8080/",
          "height": 459
        }
      },
      "source": [
        "!pip install --upgrade tf-nightly-gpu-2.0-preview tfp-nightly\n",
        "!pip install --upgrade -q gspread\n",
        "from tensorboardcolab import *\n",
        "import shutil\n",
        "#clean out the directory\n",
        "shutil.rmtree('./Graph', ignore_errors=True)\n",
        "os.mkdir('./Graph')\n",
        "#tf.reset_default_graph()\n",
        "#will start the tunneling and will print out a link:\n",
        "tbc=TensorBoardColab()"
      ],
      "execution_count": 2,
      "outputs": [
        {
          "output_type": "stream",
          "text": [
            "Requirement already up-to-date: tf-nightly-gpu-2.0-preview in /usr/local/lib/python3.6/dist-packages (2.0.0.dev20190531)\n",
            "Requirement already up-to-date: tfp-nightly in /usr/local/lib/python3.6/dist-packages (0.8.0.dev20190531)\n",
            "Requirement already satisfied, skipping upgrade: absl-py>=0.7.0 in /usr/local/lib/python3.6/dist-packages (from tf-nightly-gpu-2.0-preview) (0.7.1)\n",
            "Requirement already satisfied, skipping upgrade: protobuf>=3.6.1 in /usr/local/lib/python3.6/dist-packages (from tf-nightly-gpu-2.0-preview) (3.7.1)\n",
            "Requirement already satisfied, skipping upgrade: keras-applications>=1.0.6 in /usr/local/lib/python3.6/dist-packages (from tf-nightly-gpu-2.0-preview) (1.0.7)\n",
            "Requirement already satisfied, skipping upgrade: google-pasta>=0.1.6 in /usr/local/lib/python3.6/dist-packages (from tf-nightly-gpu-2.0-preview) (0.1.7)\n",
            "Requirement already satisfied, skipping upgrade: termcolor>=1.1.0 in /usr/local/lib/python3.6/dist-packages (from tf-nightly-gpu-2.0-preview) (1.1.0)\n",
            "Requirement already satisfied, skipping upgrade: wheel>=0.26 in /usr/local/lib/python3.6/dist-packages (from tf-nightly-gpu-2.0-preview) (0.33.4)\n",
            "Requirement already satisfied, skipping upgrade: gast>=0.2.0 in /usr/local/lib/python3.6/dist-packages (from tf-nightly-gpu-2.0-preview) (0.2.2)\n",
            "Requirement already satisfied, skipping upgrade: six>=1.10.0 in /usr/local/lib/python3.6/dist-packages (from tf-nightly-gpu-2.0-preview) (1.12.0)\n",
            "Requirement already satisfied, skipping upgrade: astor>=0.6.0 in /usr/local/lib/python3.6/dist-packages (from tf-nightly-gpu-2.0-preview) (0.8.0)\n",
            "Requirement already satisfied, skipping upgrade: tb-nightly<1.15.0a0,>=1.14.0a0 in /usr/local/lib/python3.6/dist-packages (from tf-nightly-gpu-2.0-preview) (1.14.0a20190531)\n",
            "Requirement already satisfied, skipping upgrade: wrapt>=1.11.1 in /usr/local/lib/python3.6/dist-packages (from tf-nightly-gpu-2.0-preview) (1.11.1)\n",
            "Requirement already satisfied, skipping upgrade: tensorflow-estimator-2.0-preview in /usr/local/lib/python3.6/dist-packages (from tf-nightly-gpu-2.0-preview) (1.14.0.dev2019053100)\n",
            "Requirement already satisfied, skipping upgrade: numpy<2.0,>=1.14.5 in /usr/local/lib/python3.6/dist-packages (from tf-nightly-gpu-2.0-preview) (1.16.4)\n",
            "Requirement already satisfied, skipping upgrade: grpcio>=1.8.6 in /usr/local/lib/python3.6/dist-packages (from tf-nightly-gpu-2.0-preview) (1.15.0)\n",
            "Requirement already satisfied, skipping upgrade: keras-preprocessing>=1.0.5 in /usr/local/lib/python3.6/dist-packages (from tf-nightly-gpu-2.0-preview) (1.0.9)\n",
            "Requirement already satisfied, skipping upgrade: decorator in /usr/local/lib/python3.6/dist-packages (from tfp-nightly) (4.4.0)\n",
            "Requirement already satisfied, skipping upgrade: cloudpickle>=0.6.1 in /usr/local/lib/python3.6/dist-packages (from tfp-nightly) (0.6.1)\n",
            "Requirement already satisfied, skipping upgrade: setuptools in /usr/local/lib/python3.6/dist-packages (from protobuf>=3.6.1->tf-nightly-gpu-2.0-preview) (41.0.1)\n",
            "Requirement already satisfied, skipping upgrade: h5py in /usr/local/lib/python3.6/dist-packages (from keras-applications>=1.0.6->tf-nightly-gpu-2.0-preview) (2.8.0)\n",
            "Requirement already satisfied, skipping upgrade: markdown>=2.6.8 in /usr/local/lib/python3.6/dist-packages (from tb-nightly<1.15.0a0,>=1.14.0a0->tf-nightly-gpu-2.0-preview) (3.1.1)\n",
            "Requirement already satisfied, skipping upgrade: werkzeug>=0.11.15 in /usr/local/lib/python3.6/dist-packages (from tb-nightly<1.15.0a0,>=1.14.0a0->tf-nightly-gpu-2.0-preview) (0.15.4)\n",
            "Wait for 8 seconds...\n",
            "TensorBoard link:\n",
            "https://964dba6a.ngrok.io\n"
          ],
          "name": "stdout"
        }
      ]
    },
    {
      "cell_type": "code",
      "metadata": {
        "id": "EmaXvvyQYyU0",
        "colab_type": "code",
        "outputId": "7c60283b-53ba-470a-f5ef-b7c6d65b52e9",
        "colab": {
          "base_uri": "https://localhost:8080/",
          "height": 51
        }
      },
      "source": [
        "#!pip show tensorflow\n",
        "!pip install absl-py"
      ],
      "execution_count": 3,
      "outputs": [
        {
          "output_type": "stream",
          "text": [
            "Requirement already satisfied: absl-py in /usr/local/lib/python3.6/dist-packages (0.7.1)\n",
            "Requirement already satisfied: six in /usr/local/lib/python3.6/dist-packages (from absl-py) (1.12.0)\n"
          ],
          "name": "stdout"
        }
      ]
    },
    {
      "cell_type": "code",
      "metadata": {
        "id": "IKdMJGS5or1S",
        "colab_type": "code",
        "colab": {}
      },
      "source": [
        ""
      ],
      "execution_count": 0,
      "outputs": []
    },
    {
      "cell_type": "code",
      "metadata": {
        "id": "uZ9H1WLVY36i",
        "colab_type": "code",
        "colab": {}
      },
      "source": [
        "from __future__ import absolute_import\n",
        "from __future__ import division\n",
        "from __future__ import print_function\n",
        "from __future__ import unicode_literals "
      ],
      "execution_count": 0,
      "outputs": []
    },
    {
      "cell_type": "code",
      "metadata": {
        "id": "CgfxfJMJZX65",
        "colab_type": "code",
        "colab": {}
      },
      "source": [
        "# Dependencies\n",
        "import os \n",
        "import warnings \n",
        "import matplotlib \n",
        "import numpy as np \n",
        "import tensorflow as tf \n",
        "import tensorflow_probability as tfp\n",
        "import math\n",
        "import pandas as pd\n",
        "tfd = tfp.distributions\n",
        "from sklearn.model_selection import train_test_split\n",
        "from sklearn.preprocessing import StandardScaler\n",
        "#from hyperopt import fmin, tpe, hp, STATUS_OK, STATUS_FAIL, Trials\n",
        "#import python_utils\n",
        "#import tensorflow.compat.v1 as tf\n",
        "#tf.disable_v2_behavior()\n",
        "from absl import flags"
      ],
      "execution_count": 0,
      "outputs": []
    },
    {
      "cell_type": "code",
      "metadata": {
        "id": "fnIGZKOpZYCy",
        "colab_type": "code",
        "colab": {
          "base_uri": "https://localhost:8080/",
          "height": 231
        },
        "outputId": "f5246a79-cc13-4f23-cc9c-f9e60193cb78"
      },
      "source": [
        "tf.compat.v1.flags.FLAGS.__delattr__() \n",
        "def del_all_flags(FLAGS):\n",
        "    flags_dict = FLAGS._flags()    \n",
        "    keys_list = [keys for keys in flags_dict]    \n",
        "    for keys in keys_list:\n",
        "        FLAGS.__delattr__(keys)\n",
        "\n",
        "del_all_flags(tf.compat.v1.flags.Flag)\n",
        "\n",
        "#flags = tf.app.flags\n",
        "#FLAGS = tf.app.flags.FLAGS\n",
        "\n",
        "flags.DEFINE_float(\"learning_rate\", default = 0.0001, help = \"Initial learning rate.\")\n",
        "flags.DEFINE_integer(\"epochs\", default = 700, help = \"Number of epochs to train for\")\n",
        "flags.DEFINE_integer(\"batch_size\", default =128, help = \"Batch size.\")\n",
        "flags.DEFINE_integer(\"eval_freq\", default = 400, help =\" Frequency at which to validate the model.\")\n",
        "flags.DEFINE_float(\"kernel_posterior_scale_mean\", default = -0.9, help = \"Initial kernel posterior mean of the scale (log var) for q(w)\")\n",
        "flags.DEFINE_float(\"kernel_posterior_scale_constraint\", default = 0.2, help = \"Posterior kernel constraint for the scale (log var) for q(w)\")\n",
        "flags.DEFINE_float(\"kl_annealing\", default = 50, help = \"Epochs to anneal the KL term (anneals from 0 to 1)\")\n",
        "flags.DEFINE_integer(\"num_hidden_layers\", default = 4, help = \"Number of hidden layers\")\n",
        "flags.DEFINE_integer(\"num_monte_carlo\",\n",
        "\n",
        "                     default=50,\n",
        "\n",
        "                     help=\"Network draws to compute predictive probabilities.\")\n",
        "tf..app.flags.DEFINE_string('f', '', 'kernel')\n"
      ],
      "execution_count": 8,
      "outputs": [
        {
          "output_type": "error",
          "ename": "TypeError",
          "evalue": "ignored",
          "traceback": [
            "\u001b[0;31m---------------------------------------------------------------------------\u001b[0m",
            "\u001b[0;31mTypeError\u001b[0m                                 Traceback (most recent call last)",
            "\u001b[0;32m<ipython-input-8-527782c97b57>\u001b[0m in \u001b[0;36m<module>\u001b[0;34m()\u001b[0m\n\u001b[0;32m----> 1\u001b[0;31m \u001b[0mtf\u001b[0m\u001b[0;34m.\u001b[0m\u001b[0mcompat\u001b[0m\u001b[0;34m.\u001b[0m\u001b[0mv1\u001b[0m\u001b[0;34m.\u001b[0m\u001b[0mflags\u001b[0m\u001b[0;34m.\u001b[0m\u001b[0mFLAGS\u001b[0m\u001b[0;34m.\u001b[0m\u001b[0m__delattr__\u001b[0m\u001b[0;34m(\u001b[0m\u001b[0;34m)\u001b[0m\u001b[0;34m\u001b[0m\u001b[0;34m\u001b[0m\u001b[0m\n\u001b[0m\u001b[1;32m      2\u001b[0m \u001b[0;32mdef\u001b[0m \u001b[0mdel_all_flags\u001b[0m\u001b[0;34m(\u001b[0m\u001b[0mFLAGS\u001b[0m\u001b[0;34m)\u001b[0m\u001b[0;34m:\u001b[0m\u001b[0;34m\u001b[0m\u001b[0;34m\u001b[0m\u001b[0m\n\u001b[1;32m      3\u001b[0m     \u001b[0mflags_dict\u001b[0m \u001b[0;34m=\u001b[0m \u001b[0mFLAGS\u001b[0m\u001b[0;34m.\u001b[0m\u001b[0m_flags\u001b[0m\u001b[0;34m(\u001b[0m\u001b[0;34m)\u001b[0m\u001b[0;34m\u001b[0m\u001b[0;34m\u001b[0m\u001b[0m\n\u001b[1;32m      4\u001b[0m     \u001b[0mkeys_list\u001b[0m \u001b[0;34m=\u001b[0m \u001b[0;34m[\u001b[0m\u001b[0mkeys\u001b[0m \u001b[0;32mfor\u001b[0m \u001b[0mkeys\u001b[0m \u001b[0;32min\u001b[0m \u001b[0mflags_dict\u001b[0m\u001b[0;34m]\u001b[0m\u001b[0;34m\u001b[0m\u001b[0;34m\u001b[0m\u001b[0m\n\u001b[1;32m      5\u001b[0m     \u001b[0;32mfor\u001b[0m \u001b[0mkeys\u001b[0m \u001b[0;32min\u001b[0m \u001b[0mkeys_list\u001b[0m\u001b[0;34m:\u001b[0m\u001b[0;34m\u001b[0m\u001b[0;34m\u001b[0m\u001b[0m\n",
            "\u001b[0;31mTypeError\u001b[0m: __delattr__() missing 1 required positional argument: 'flag_name'"
          ]
        }
      ]
    },
    {
      "cell_type": "code",
      "metadata": {
        "id": "gG067Td8ZiIR",
        "colab_type": "code",
        "colab": {}
      },
      "source": [
        "def build_input_pipeline(X_train,X_test,y_train, y_test, batch_size, valid_size):\n",
        "  #Build an iterator over training batches \n",
        "  training_dataset = tf.data.Dataset.from_tensor_slices((X_train, y_train))\n",
        "  #Shuffle the dataset (note shuffle argument much larger than training size)\n",
        "  # and form batches of size batch_size\n",
        "  training_batches = training_dataset.shuffle(20000, reshuffle_each_iteration =True).repeat().batch(batch_size)\n",
        "  training_iterator = tf.data.make_one_shot_iterator(training_batches)\n",
        "  \n",
        "  #Building iterator over the heldout set with batch_size = heldout_size,\n",
        "  # i.e., return the entire heldout set as a constant.\n",
        "  heldout_dataset = tf.data.Dataset.from_tensor_slices((X_test, y_test))\n",
        "  heldout_batches = heldout_dataset.repeat().batch(valid_size)\n",
        "  heldout_iterator = tf.data.make_one_shot_iterator(heldout_batches)\n",
        "  \n",
        "  #Combine these into a feasible iterator that can switch between training \n",
        "  # and validation inputs.\n",
        "  # Here should be minibatch increment be defined \n",
        "  handle = tf.placeholder(tf.string, shape = [])\n",
        "  feedable_iterator = tf.data.Iterator.from_string_handle(handle, training_batches.output_types, training_batches.output_shapes)\n",
        "  features_final, labels_final = feedable_iterator.get_next()\n",
        "  \n",
        "  return features_final, labels_final, handle, training_iterator, heldout_iterator\n"
      ],
      "execution_count": 0,
      "outputs": []
    },
    {
      "cell_type": "code",
      "metadata": {
        "id": "EcSdICmvZiQg",
        "colab_type": "code",
        "colab": {}
      },
      "source": [
        "from google.colab import drive\n",
        "drive.mount(\"/content/gdrive\")"
      ],
      "execution_count": 0,
      "outputs": []
    },
    {
      "cell_type": "code",
      "metadata": {
        "id": "-QsAopJfZiUx",
        "colab_type": "code",
        "colab": {}
      },
      "source": [
        "!ls \"/content/gdrive/My Drive/\""
      ],
      "execution_count": 0,
      "outputs": []
    },
    {
      "cell_type": "code",
      "metadata": {
        "id": "15Q4z84sZYGq",
        "colab_type": "code",
        "colab": {}
      },
      "source": [
        "# Read in the dataset\n",
        "df = pd.read_csv('/content/gdrive/My Drive/work2.csv').astype(np.float32)\n",
        "change = df.query('Speed>0').sample(frac = .2).index\n",
        "df.loc[change, 'Speed'] = 0\n",
        "df.loc[change, 'Class'] = 0\n",
        "df.to_csv('work2.csv', header = True, index =False)\n",
        "df.shape"
      ],
      "execution_count": 0,
      "outputs": []
    },
    {
      "cell_type": "code",
      "metadata": {
        "id": "dzLUkBo2Z1iJ",
        "colab_type": "code",
        "colab": {}
      },
      "source": [
        "X = df.iloc[:,:-1].values\n",
        "y = df.iloc[:,-1].values\n"
      ],
      "execution_count": 0,
      "outputs": []
    },
    {
      "cell_type": "code",
      "metadata": {
        "id": "7a0gG4bGZ1mc",
        "colab_type": "code",
        "colab": {}
      },
      "source": [
        "X_train, X_test, y_train, y_test = train_test_split(X, y, test_size=0.2, random_state =1)\n",
        "\n",
        "#reshape y-data to become column vector \n",
        "y_train = np.reshape(y_train, [-1,1])\n",
        "y_test = np.reshape(y_test, [-1,1])"
      ],
      "execution_count": 0,
      "outputs": []
    },
    {
      "cell_type": "code",
      "metadata": {
        "id": "Yemecz6WZ1qn",
        "colab_type": "code",
        "colab": {}
      },
      "source": [
        "# Standardize the dataset \n",
        "scalar_x_train = StandardScaler().fit(X_train)\n",
        "scalar_x_test = StandardScaler().fit(X_test)\n",
        "X_train = scalar_x_train.transform(X_train)\n",
        "X_test = scalar_x_test.transform(X_test)"
      ],
      "execution_count": 0,
      "outputs": []
    },
    {
      "cell_type": "code",
      "metadata": {
        "id": "UlT4rn13Z9nZ",
        "colab_type": "code",
        "colab": {}
      },
      "source": [
        "def main(argv):\n",
        "  (features_final, labels_final, handle, training_iterator, heldout_iterator) = build_input_pipeline(X_train,X_test, y_train,y_test, FLAGS.batch_size, 500)\n",
        "  \n",
        "  #features, labels = build_input_pipeline(X,y, FLAGS.batch_size)\n",
        "  #Building Bayesian Logistic \n",
        "  with tf.name_scope(\"logistic_regression\", values=[features_final]):\n",
        "    layer = tfp.layers.DenseFlipout(\n",
        "        units=1,\n",
        "        activation= tf.nn.relu,\n",
        "        kernel_posterior_fn=tfp.layers.default_mean_field_normal_fn(),\n",
        "        bias_posterior_fn=tfp.layers.default_mean_field_normal_fn())\n",
        "    logits = layer(features_final)\n",
        "   # logits = layer(features)\n",
        "    labels_distribution = tfd.Bernoulli(logits=logits)\n",
        " #Compute the -ELBO as the loss, averaged over the batch size \n",
        "    t = tf.Variable(0.0)\n",
        "    kl_regularizer =  t / (FLAGS.kl_annealing * len(X_train) / FLAGS.batch_size)\n",
        "  \n",
        "    #Compute the -ELBO as the loss. The kl term is annealed from 1 to 1 over \n",
        "    # the epochs specified by the kl_annealing flag.\n",
        "    #log_likelihood = labels_distribution.log_prob(labels_final)\n",
        "    #log_likelihood = labels_distribution.log_prob(labels)\n",
        "   #neg_log_likelihood = tf.reduce_mean(tf.squared_difference(logits,labels_final))\n",
        "    neg_log_likelihood = -tf.reduce_mean(input_tensor = labels_distribution.log_prob(labels_final))\n",
        "    #neg_log_likelihood = -tf.reduce_mean(input_tensor = log_likelihood)\n",
        "    \n",
        "    #kl = sum(layer.losses)/len(X_train) * tf.minimum(1.0, kl_regularizer)\n",
        "    kl = tf.cast(sum(layer.losses)/len(X_train), tf.float32) * tf.minimum(1.0, kl_regularizer)\n",
        "    elbo_loss = neg_log_likelihood + kl\n",
        "   \n",
        "  \"\"\"neg_log_likelihood = -tf.reduce_mean(labels_distribution.log_prob(features))\n",
        "  kl = sum(layer.losses)/len(X_train)\n",
        "  elbo_loss = neg_log_likelihood + kl \"\"\"\n",
        "  #Build metrics for evaluation. Predictions are formed from single forward \n",
        "  #pass of the probabilistic layers. They are cheap but noise predictions\n",
        "  #predictions = tf.argmax(input = logits, axis=1)\n",
        "  #accuracy, accuracy_update_op = tf.metrics.accuracy(labels= labels_final,  predictions = predictions)\n",
        "  predictions = tf.cast(logits>0, dtype = tf.float32)\n",
        "  \n",
        "  \n",
        "  with tf.name_scope(\"train\"):\n",
        "    train_accuracy, train_accuracy_update_op = tf.metrics.accuracy(labels= labels_final,  predictions = predictions)\n",
        "    optimizer =tf.train.AdamOptimizer(learning_rate=FLAGS.learning_rate)\n",
        "    train_op = optimizer.minimize(elbo_loss)\n",
        "    update_step_op = tf.assign(t, t+1)\n",
        "    #init_op = tf.group(tf.global_variables_initializer(), tf.local_variables_initializer())\n",
        "  \n",
        "  with tf.name_scope(\"valid\"):\n",
        "    valid_accuracy, validation_accuracy_update_op = tf.metrics.accuracy(labels = labels_final,predictions = predictions)\n",
        "    #TP, TN, FP, FN\n",
        "    TP = tf.count_nonzero(predictions * labels_final)\n",
        "    TN = tf.count_nonzero((predictions-1)*(labels_final-1))\n",
        "    FP = tf.count_nonzero(predictions*(labels_final-1))\n",
        "    FN = tf.count_nonzero((predictions-1)* labels_final)\n",
        "    #precision, recall, f1\n",
        "    precision = TP / (TP + FP)\n",
        "    recall = TP / (TP + FN)\n",
        "    f1 = 2 * precision * precision * recall / (precision + recall)\n",
        "    tpr = TP/(TP+FN)\n",
        "    fpr = FP/(TP+FN)\n",
        "   \n",
        "    init_op = tf.group(tf.global_variables_initializer(), \n",
        "                       tf.local_variables_initializer())\n",
        "    stream_vars_valid = [v for v in tf.local_variables() if \"valid\" in v.name]\n",
        "    reset_valid_op = tf.variables_initializer(stream_vars_valid)\n",
        "    \n",
        "    \n",
        "    \n",
        "  with tf.Session() as sess:\n",
        "    \n",
        "    sess.run(init_op)\n",
        "    #Run the training looop\n",
        "    # Fit the model to data.\n",
        "    train_handle = sess.run(training_iterator.string_handle())\n",
        "    heldout_handle = sess.run(heldout_iterator.string_handle())\n",
        "    training_steps = int(round(FLAGS.epochs * (len(X_train) / FLAGS.batch_size)))\n",
        "    for step in range(training_steps):\n",
        "      _ = sess.run([train_op,train_accuracy_update_op, update_step_op],feed_dict={handle: train_handle})\n",
        "      \n",
        "      # Manually print the frequency \n",
        "      if step % 100 == 0:\n",
        "        loss_value, accuracy_value, kl_value = sess.run([elbo_loss, train_accuracy, kl], feed_dict= {handle:train_handle})\n",
        "        print(\"Step:{:>3d} loss : {:.3f} KL: {:.3f}\" .format(step , loss_value, accuracy_value, kl_value))\n",
        "        \n",
        "      if (step +1) % FLAGS.eval_freq ==0: \n",
        "        # Compute log prob of heldout set by averaging draws from the model:\n",
        "        # p(heldout | train) = int_model p(heldout|model) p(model|train) ~= 1/n * sum_{i=1}^n p(heldout | model_i)\n",
        "        # where model_i is a draw from the posterior \n",
        "        #p(model|train)\n",
        "        probs = np.asarray([sess.run((labels_distribution.probs), \n",
        "                                     feed_dict ={handle: heldout_handle})\n",
        "      \n",
        "                            for _ in range(FLAGS.num_monte_carlo)])\n",
        "     \n",
        "        mean_probs = np.mean(probs, axis =0).astype(np.int32)\n",
        "        print(mean_probs.dtype)\n",
        "        \n",
        "        _, label_vals = sess.run((features_final, labels_final), feed_dict = {handle: heldout_handle})\n",
        "        label_vals = (label_vals).astype(np.int32)\n",
        "      \n",
        "       # heldout_lp = np.mean(np.log(mean_probs[np.arange(mean_probs.shape[0]), label_vals]))\n",
        "        \n",
        "        \n",
        "        #print(\" ...Held_out nats: {:.3f}\".format(heldout_lp))\n",
        "        \n",
        "       # Calculate validation accuracy\n",
        "\n",
        "        for  step in range(20):\n",
        "\n",
        "          sess.run(validation_accuracy_update_op, feed_dict={handle: heldout_handle})\n",
        "\n",
        "        #valid_value = sess.run(valid_accuracy, feed_dict={handle: heldout_handle})\n",
        "        loss_val_value, valid_accuracy_value, precision_value, recall_value, fpr_value, tpr_value,f1_value = sess.run([elbo_loss, valid_accuracy, precision, recall, fpr, tpr,f1], feed_dict = {handle:heldout_handle})\n",
        "        print(\"Step: {:>3d} elboloss: {:.3f} Validation Accuracy: {:.3f} Precision: {:.3f} Recall: {:.3f} fpr:{:.3f} tpr:{:.3f} f1:{:.3f} \".format(\n",
        "            step, loss_value, accuracy_value, precision_value, recall_value, fpr_value, tpr_value, f1_value))\n",
        "       # print(\"Step: {:>3d} fpr: {:.3f} tpr: {:.3f} \".format(\n",
        "           # step, fpr_value, tpr_value))\n",
        "        #loss_value, accuracy_value, precision_value, recall_value, fpr_value, tpr_value = sess.run([elbo_loss, accuracy, precision, recall, fpr, tpr], feed_dict = {handle: train_handle})\n",
        "        \n",
        "        #print( Validation Accuracy: {:.3f}\".format(valid_value))\n",
        "        \n",
        "        sess.run(reset_valid_op)\n",
        "if __name__ == \"__main__\": \n",
        "  tf.compat.v1.app.run()\n",
        "  "
      ],
      "execution_count": 0,
      "outputs": []
    },
    {
      "cell_type": "code",
      "metadata": {
        "id": "X0C4br-FHLjp",
        "colab_type": "code",
        "colab": {}
      },
      "source": [
        "#!pip install -q tensorflow==2.0.0-alpha0"
      ],
      "execution_count": 0,
      "outputs": []
    },
    {
      "cell_type": "code",
      "metadata": {
        "id": "eI9SGK0IIEoi",
        "colab_type": "code",
        "colab": {}
      },
      "source": [
        "from tensorflow.keras import layers\n",
        "\n",
        "import numpy as np\n",
        "from tensorflow.keras.wrappers.scikit_learn import KerasClassifier\n",
        "from sklearn.ensemble import VotingClassifier\n",
        "from sklearn.metrics import accuracy_score,confusion_matrix, accuracy_score, precision_score, recall_score, f1_score, roc_curve\n",
        "\n",
        "\n",
        "\n"
      ],
      "execution_count": 0,
      "outputs": []
    },
    {
      "cell_type": "code",
      "metadata": {
        "id": "6bZtu88ICMS6",
        "colab_type": "code",
        "colab": {}
      },
      "source": [
        "# create the training datasets\n",
        "dx_train = tf.data.Dataset.from_tensor_slices(X_train)\n",
        "# apply a one-hot transformation to each label for use in the neural network\n",
        "dy_train = tf.data.Dataset.from_tensor_slices(y_train)\n",
        "# zip the x and y training data together and shuffle, batch etc.\n",
        "train_dataset = tf.data.Dataset.zip((dx_train, dy_train)).shuffle(500).repeat().batch(8)"
      ],
      "execution_count": 0,
      "outputs": []
    },
    {
      "cell_type": "code",
      "metadata": {
        "id": "nUu-rz0jCTqR",
        "colab_type": "code",
        "colab": {}
      },
      "source": [
        "# do the same operations for the validation set\n",
        "dx_valid = tf.data.Dataset.from_tensor_slices(X_test)\n",
        "dy_valid = tf.data.Dataset.from_tensor_slices(y_test)\n",
        "valid_dataset = tf.data.Dataset.zip((dx_valid, dy_valid)).shuffle(500).repeat().batch(30)"
      ],
      "execution_count": 0,
      "outputs": []
    },
    {
      "cell_type": "code",
      "metadata": {
        "id": "s5gcW9_edW3i",
        "colab_type": "code",
        "colab": {}
      },
      "source": [
        "def mlp_model():\n",
        "    model = keras.Sequential([\n",
        "    layers.Dense(64, activation='relu', kernel_initializer='he_normal', input_shape=X_train.shape[1]),\n",
        "    layers.BatchNormalization(),\n",
        "    layers.Dropout(0.2),\n",
        "    layers.Dense(64, activation='relu', kernel_initializer='he_normal'),\n",
        "    layers.BatchNormalization(),\n",
        "    layers.Dropout(0.2),\n",
        "    layers.Dense(64, activation='relu', kernel_initializer='he_normal'),\n",
        "    layers.BatchNormalization(),\n",
        "    layers.Dropout(0.2),\n",
        "    layers.Dense(10, activation='softmax')\n",
        "    ])\n",
        "    model.compile(optimizer=keras.optimizers.SGD(),\n",
        "             loss=keras.losses.SparseCategoricalCrossentropy(),\n",
        "             metrics=['accuracy'])\n",
        "    return model\n",
        "model1 = KerasClassifier(build_fn=mlp_model, epochs=100, verbose=0)\n",
        "model2 = KerasClassifier(build_fn=mlp_model, epochs=100, verbose=0)\n",
        "model3 = KerasClassifier(build_fn=mlp_model, epochs=100, verbose=0)\n",
        "model4 = KerasClassifier(build_fn=mlp_model, epochs=100, verbose=0)\n",
        "ensemble_clf = VotingClassifier(estimators=[\n",
        "    ('model1', model1), ('model2', model2), ('model3', model3),('model4', model4)])"
      ],
      "execution_count": 0,
      "outputs": []
    },
    {
      "cell_type": "code",
      "metadata": {
        "id": "03wssR9QdhVF",
        "colab_type": "code",
        "colab": {}
      },
      "source": [
        "ensemble_clf.fit(train_dataset, epochs =100, steps_per_epoch=1000, validation_steps =3)"
      ],
      "execution_count": 0,
      "outputs": []
    },
    {
      "cell_type": "code",
      "metadata": {
        "id": "WBaia2h-dyK1",
        "colab_type": "code",
        "colab": {}
      },
      "source": [
        "y_predict = ensemble_clf.predict(X_test)\n",
        "print('acc: ', accuracy_scoreecuracy_scorecuracy_score(y_pred, y_test))"
      ],
      "execution_count": 0,
      "outputs": []
    },
    {
      "cell_type": "code",
      "metadata": {
        "id": "E8MJG-ARHTct",
        "colab_type": "code",
        "colab": {}
      },
      "source": [
        "# create the neural network model\n",
        "#logits = model(next_element[0])"
      ],
      "execution_count": 0,
      "outputs": []
    },
    {
      "cell_type": "code",
      "metadata": {
        "id": "VU3AMh4UHaX2",
        "colab_type": "code",
        "colab": {}
      },
      "source": [
        "# add the optimizer and loss\n",
        "#loss = tf.reduce_sum(tf.nn.softmax_cross_entropy_with_logits_v2(labels=next_element[1], logits=logits))\n",
        "#optimizer = tf.train.AdamOptimizer(1e-7).minimize(loss)\n",
        "# get accuracy\n",
        "#predictions = tf.argmax(logits, 1)\n",
        "#equality = tf.equal(predictions, tf.argmax(next_element[1], 1))\n",
        "#accuracy = tf.reduce_mean(tf.cast(equality, tf.float32))\n",
        "\n",
        "\n",
        "#TP, TN, FP, FN\n",
        "TP = tf.count_nonzero(predictions * y_test, dtype=tf.float32)\n",
        "TN = tf.count_nonzero((predictions-1)*(y_test-1), dtype=tf.float32)\n",
        "FP = tf.count_nonzero(predictions*(y_test-1), dtype=tf.float32)\n",
        "FN = tf.count_nonzero((predictions-1)*y_test, dtype=tf.float32)\n",
        "#precision, recall, f1\n",
        "precision = TP / (TP + FP)\n",
        "recall = TP / (TP + FN)\n",
        "f1 = 2 * precision * precision * recall / (precision + recall)\n",
        "tpr = TP/(TP+FN)\n",
        "fpr = FP/(TP+FN)\n",
        "\n",
        "\n",
        "\n",
        "\n",
        "\n",
        "\n",
        "init_op = tf.global_variables_initializer()"
      ],
      "execution_count": 0,
      "outputs": []
    },
    {
      "cell_type": "code",
      "metadata": {
        "id": "DuL2MsB2Hb_v",
        "colab_type": "code",
        "colab": {}
      },
      "source": [
        "# run the training\n",
        "epochs = 600\n",
        "with tf.Session() as sess:\n",
        "    sess.run(init_op)\n",
        "    sess.run(training_init_op)\n",
        "    for i in range(epochs):\n",
        "        l, _, acc = sess.run([loss, optimizer, accuracy])\n",
        "        if i % 50 == 0:\n",
        "            print(\"Epoch: {}, loss: {:.3f}, training accuracy: {:.2f}%\".format(i, l, acc * 100))\n",
        "    # now setup the validation run\n",
        "    valid_iters = 1000\n",
        "    # re-initialize the iterator, but this time with validation data\n",
        "    sess.run(validation_init_op)\n",
        "    avg_acc = 0\n",
        "    for i in range(valid_iters):\n",
        "        \n",
        "        loss_value, valid_accuracy, precision_value, recall_value, fpr_value, tpr_value,f1_value = sess.run([loss, accuracy, precision, recall, fpr, tpr,f1])\n",
        "        print(\"Step: {:>3d} loss: {:.3f} Validation Accuracy: {:.3f} Precision: {:.3f} Recall: {:.3f} fpr:{:.3f} tpr:{:.3f} f1:{:.3f} \".format(\n",
        "            i, loss_value, valid_accuracy, precision_value, recall_value, fpr_value, tpr_value, f1_value))\n",
        "        \n",
        "        \n",
        "        \n",
        "        \n",
        "        acc = sess.run([accuracy])\n",
        "        avg_acc += acc[0]\n",
        "        print(\"Average validation set accuracy over {} iterations is {:.2f}%\".format(valid_iters,(avg_acc ) ))          "
      ],
      "execution_count": 0,
      "outputs": []
    },
    {
      "cell_type": "code",
      "metadata": {
        "id": "_VMa6xWdKxP2",
        "colab_type": "code",
        "colab": {}
      },
      "source": [
        "%matplotlib inline\n",
        "import numpy as np\n",
        "import pandas as pd\n",
        "import matplotlib.pyplot as plt\n",
        "#from sklearn import svm\n",
        "from sklearn.linear_model import LogisticRegression\n",
        "from sklearn.metrics import classification_report, confusion_matrix, accuracy_score, precision_score, recall_score,  f1_score,roc_curve\n",
        "\n",
        "#clf = svm.SVC(kernel='rbf',degree=3, probability=False,tol=0.001)\n",
        "#clf = RandomForestClassifier(n_estimators=100,random_state=0)\n",
        "clf = LogisticRegression(C=0.1)\n",
        "clf.fit(X_train,y_train)\n",
        "y_pred = clf.predict(X_test)\n",
        "fpr_value,tpr_value, thr = roc_curve(y_test,y_pred)\n",
        "f1_value = f1_score,roc_curve(y_test,y_pred)\n",
        "precision = precision_score(y_test,y_pred)\n",
        "precision = recall_score(y_test,y_pred)\n",
        "#print(confusion_matrix(y_test,y_pred))  \n",
        "#print(classification_report(y_test,y_pred))  \n",
        "valid_accuracy= accuracy_score(y_test, y_pred)\n",
        "\n",
        "\n",
        "print(\"Step: { Validation Accuracy: {:.3f} Precision: {:.3f} Recall: {:.3f} fpr:{:.3f} tpr:{:.3f} f1:{:.3f} \".format(\n",
        "            valid_accuracy, precision_value, recall_value, fpr_value, tpr_value, f1_value))"
      ],
      "execution_count": 0,
      "outputs": []
    }
  ]
}