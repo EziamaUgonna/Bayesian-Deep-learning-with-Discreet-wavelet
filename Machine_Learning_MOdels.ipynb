{
  "nbformat": 4,
  "nbformat_minor": 0,
  "metadata": {
    "colab": {
      "name": "Machine_Learning_MOdels.ipynb",
      "version": "0.3.2",
      "provenance": [],
      "include_colab_link": true
    },
    "kernelspec": {
      "name": "python3",
      "display_name": "Python 3"
    }
  },
  "cells": [
    {
      "cell_type": "markdown",
      "metadata": {
        "id": "view-in-github",
        "colab_type": "text"
      },
      "source": [
        "<a href=\"https://colab.research.google.com/github/EziamaUgonna/Bayesian_analysis-/blob/master/Machine_Learning_MOdels.ipynb\" target=\"_parent\"><img src=\"https://colab.research.google.com/assets/colab-badge.svg\" alt=\"Open In Colab\"/></a>"
      ]
    },
    {
      "metadata": {
        "id": "4hz2fzmkv-bV",
        "colab_type": "code",
        "colab": {}
      },
      "cell_type": "code",
      "source": [
        "%matplotlib inline\n",
        "import numpy as np\n",
        "import pandas as pd\n",
        "import matplotlib.pyplot as plt\n",
        "from sklearn import svm\n",
        "from sklearn.neighbors import KNeighborsClassifier\n",
        "from sklearn.tree import DecisionTreeClassifier\n",
        "from sklearn.model_selection import train_test_split\n",
        "from sklearn.model_selection import KFold\n",
        "from sklearn.linear_model import LogisticRegression\n",
        "from sklearn.ensemble import RandomForestClassifier \n",
        "from sklearn.naive_bayes import GaussianNB\n",
        "from sklearn.metrics import accuracy_score\n",
        "from sklearn.metrics import auc, roc_auc_score, precision_recall_curve, roc_curve, average_precision_score"
      ],
      "execution_count": 0,
      "outputs": []
    },
    {
      "metadata": {
        "id": "bnbfquVntzEJ",
        "colab_type": "code",
        "colab": {
          "base_uri": "https://localhost:8080/",
          "height": 122
        },
        "outputId": "b6002e2a-c58a-4e26-d11d-3ea8d51c2d6e"
      },
      "cell_type": "code",
      "source": [
        "from google.colab import drive\n",
        "drive.mount(\"/content/gdrive\")"
      ],
      "execution_count": 4,
      "outputs": [
        {
          "output_type": "stream",
          "text": [
            "Go to this URL in a browser: https://accounts.google.com/o/oauth2/auth?client_id=947318989803-6bn6qk8qdgf4n4g3pfee6491hc0brc4i.apps.googleusercontent.com&redirect_uri=urn%3Aietf%3Awg%3Aoauth%3A2.0%3Aoob&scope=email%20https%3A%2F%2Fwww.googleapis.com%2Fauth%2Fdocs.test%20https%3A%2F%2Fwww.googleapis.com%2Fauth%2Fdrive%20https%3A%2F%2Fwww.googleapis.com%2Fauth%2Fdrive.photos.readonly%20https%3A%2F%2Fwww.googleapis.com%2Fauth%2Fpeopleapi.readonly&response_type=code\n",
            "\n",
            "Enter your authorization code:\n",
            "··········\n",
            "Mounted at /content/gdrive\n"
          ],
          "name": "stdout"
        }
      ]
    },
    {
      "metadata": {
        "id": "431S0sQyuFCS",
        "colab_type": "code",
        "colab": {
          "base_uri": "https://localhost:8080/",
          "height": 51
        },
        "outputId": "eee59d67-4cf1-4d4e-85ae-42d55c6343d1"
      },
      "cell_type": "code",
      "source": [
        "!ls \"/content/gdrive/My Drive/\""
      ],
      "execution_count": 5,
      "outputs": [
        {
          "output_type": "stream",
          "text": [
            " BNN_Work.ipynb     data1.csv\t      Untitled1.ipynb\n",
            "'Colab Notebooks'   Untitled0.ipynb   work2.csv\n"
          ],
          "name": "stdout"
        }
      ]
    },
    {
      "metadata": {
        "id": "MQ-Z2NkIuGiF",
        "colab_type": "code",
        "colab": {}
      },
      "cell_type": "code",
      "source": [
        "df = pd.read_csv(\"/content/gdrive/My Drive/data1.csv\")\n",
        "df.set_index(['type'],inplace = True)\n",
        "X = df.iloc[:,1:16]\n",
        "y = df.iloc[:,-1]"
      ],
      "execution_count": 0,
      "outputs": []
    },
    {
      "metadata": {
        "id": "0S5LjCUVuQ-K",
        "colab_type": "code",
        "colab": {}
      },
      "cell_type": "code",
      "source": [
        "df"
      ],
      "execution_count": 0,
      "outputs": []
    },
    {
      "metadata": {
        "id": "HP0NSP97uwnr",
        "colab_type": "code",
        "colab": {}
      },
      "cell_type": "code",
      "source": [
        "train_X, test_X, train_Y,test_Y  = train_test_split(X, y, test_size = 0.2, random_state = 0)\n",
        "\n",
        "abc=[]\n",
        "classifiers=['Linear Svm','Radial Svm','Logistic Regression','KNN','Decision Tree', 'Random forest', 'Naive Bayes']\n",
        "models=[svm.SVC(kernel='linear'),svm.SVC(kernel='rbf',degree=3, probability=False,tol=0.001),LogisticRegression(C=0.1),\n",
        "        KNeighborsClassifier(n_neighbors=3),DecisionTreeClassifier(), \n",
        "        RandomForestClassifier(n_estimators=100,random_state=0), GaussianNB()]\n",
        "for i in models:\n",
        "    model = i\n",
        "    model.fit(train_X,train_Y)\n",
        "    prediction=model.predict( test_X)\n",
        "    abc.append(accuracy_score(prediction,test_Y))\n",
        "models_dataframe=pd.DataFrame(abc,index=classifiers)   \n",
        "models_dataframe.columns=['Accuracy']\n",
        "models_dataframe.sort_values(['Accuracy'], ascending=[0])\n",
        "from sklearn import metrics\n",
        "from sklearn.metrics import (confusion_matrix, precision_recall_curve, auc, roc_curve, recall_score, \n",
        "                             classification_report, f1_score, average_precision_score, precision_recall_fscore_support)"
      ],
      "execution_count": 0,
      "outputs": []
    },
    {
      "metadata": {
        "id": "JH9TMgy8uuB3",
        "colab_type": "code",
        "colab": {}
      },
      "cell_type": "code",
      "source": [
        "models_dataframe"
      ],
      "execution_count": 0,
      "outputs": []
    },
    {
      "metadata": {
        "id": "S35EcWg1vBYy",
        "colab_type": "code",
        "colab": {}
      },
      "cell_type": "code",
      "source": [
        "#from sklearn.model_selection import KFold #for K-fold cross validation\n",
        "#from sklearn.model_selection import cross_val_score #score evaluation"
      ],
      "execution_count": 0,
      "outputs": []
    },
    {
      "metadata": {
        "id": "Q37bTX7GvJJc",
        "colab_type": "code",
        "colab": {}
      },
      "cell_type": "code",
      "source": [
        "#kfold = KFold(n_splits=10, random_state=22) # k=10, split the data into 10 equal parts"
      ],
      "execution_count": 0,
      "outputs": []
    },
    {
      "metadata": {
        "id": "w29V0Y4NvOhQ",
        "colab_type": "code",
        "colab": {}
      },
      "cell_type": "code",
      "source": [
        "\n",
        "# Logistic regression\n",
        "modelLR = LogisticRegression()\n",
        "modelLR.fit(train_X,train_Y)\n",
        "y_pred = modelLR.predict(test_X)\n",
        "y_pred_prob_lr = modelLR.predict_proba(test_X)[:,1]\n",
        "fpr_lr, tpr_lr, thresholds_lr = roc_curve(test_Y, y_pred_prob_lr)\n",
        "roc_auc_lr = auc(fpr_lr, tpr_lr)\n",
        "precision_lr, recall_lr,th_r = precision_recall_curve(test_Y, y_pred_prob_lr)\n",
        "precision_lr"
      ],
      "execution_count": 0,
      "outputs": []
    }
  ]
}