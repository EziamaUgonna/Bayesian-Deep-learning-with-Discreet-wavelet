{
  "nbformat": 4,
  "nbformat_minor": 0,
  "metadata": {
    "colab": {
      "name": "Dissertation_work.ipynb",
      "version": "0.3.2",
      "provenance": [],
      "collapsed_sections": [],
      "include_colab_link": true
    },
    "kernelspec": {
      "name": "python3",
      "display_name": "Python 3"
    },
    "accelerator": "TPU"
  },
  "cells": [
    {
      "cell_type": "markdown",
      "metadata": {
        "id": "view-in-github",
        "colab_type": "text"
      },
      "source": [
        "<a href=\"https://colab.research.google.com/github/EziamaUgonna/Bayesian_analysis-/blob/master/today.ipynb\" target=\"_parent\"><img src=\"https://colab.research.google.com/assets/colab-badge.svg\" alt=\"Open In Colab\"/></a>"
      ]
    },
    {
      "cell_type": "code",
      "metadata": {
        "id": "PdAfzZW_Kugw",
        "colab_type": "code",
        "outputId": "ac7f6c51-6d8f-4ce5-b650-93cbb3653725",
        "colab": {
          "base_uri": "https://localhost:8080/",
          "height": 187
        }
      },
      "source": [
        "!pip show tensorflow"
      ],
      "execution_count": 1,
      "outputs": [
        {
          "output_type": "stream",
          "text": [
            "Name: tensorflow\n",
            "Version: 1.14.0rc1\n",
            "Summary: TensorFlow is an open source machine learning framework for everyone.\n",
            "Home-page: https://www.tensorflow.org/\n",
            "Author: Google Inc.\n",
            "Author-email: packages@tensorflow.org\n",
            "License: Apache 2.0\n",
            "Location: /usr/local/lib/python3.6/dist-packages\n",
            "Requires: six, astor, keras-applications, protobuf, tensorflow-estimator, termcolor, tensorboard, grpcio, numpy, wrapt, absl-py, keras-preprocessing, google-pasta, gast, wheel\n",
            "Required-by: stable-baselines, magenta, fancyimpute\n"
          ],
          "name": "stdout"
        }
      ]
    },
    {
      "cell_type": "code",
      "metadata": {
        "id": "GgEraww6ozqr",
        "colab_type": "code",
        "outputId": "25fa3cbd-dfee-45d8-f867-ff2c35af0f53",
        "colab": {
          "base_uri": "https://localhost:8080/",
          "height": 187
        }
      },
      "source": [
        "!pip show tensorflow_probability"
      ],
      "execution_count": 2,
      "outputs": [
        {
          "output_type": "stream",
          "text": [
            "Name: tensorflow-probability\n",
            "Version: 0.7.0rc0\n",
            "Summary: Probabilistic modeling and statistical inference in TensorFlow\n",
            "Home-page: http://github.com/tensorflow/probability\n",
            "Author: Google LLC\n",
            "Author-email: no-reply@google.com\n",
            "License: Apache 2.0\n",
            "Location: /usr/local/lib/python3.6/dist-packages\n",
            "Requires: cloudpickle, numpy, six, decorator\n",
            "Required-by: tensor2tensor, magenta, dm-sonnet\n"
          ],
          "name": "stdout"
        }
      ]
    },
    {
      "cell_type": "code",
      "metadata": {
        "id": "vUnoXqtYK636",
        "colab_type": "code",
        "colab": {}
      },
      "source": [
        "from __future__ import absolute_import\n",
        "from __future__ import division\n",
        "from __future__ import print_function\n",
        "from __future__ import unicode_literals "
      ],
      "execution_count": 0,
      "outputs": []
    },
    {
      "cell_type": "code",
      "metadata": {
        "id": "tNaKznlPLZ1w",
        "colab_type": "code",
        "colab": {}
      },
      "source": [
        "# Dependencies\n",
        "import os \n",
        "import warnings \n",
        "#from absl import flags \n",
        "import matplotlib \n",
        "import numpy as np \n",
        "import tensorflow as tf \n",
        "import tensorflow_probability as tfp\n",
        "import math\n",
        "import pandas as pd\n",
        "tfd = tfp.distributions\n",
        "from sklearn.model_selection import train_test_split\n",
        "from sklearn.preprocessing import StandardScaler\n",
        "#from hyperopt import fmin, tpe, hp, STATUS_OK, STATUS_FAIL, Trials\n",
        "#import python_utils"
      ],
      "execution_count": 0,
      "outputs": []
    },
    {
      "cell_type": "code",
      "metadata": {
        "id": "4Sna8L90LzSy",
        "colab_type": "code",
        "outputId": "2997eb86-b917-48a9-9e10-a20d21a8a7f5",
        "colab": {
          "base_uri": "https://localhost:8080/",
          "height": 68
        }
      },
      "source": [
        "flags = tf.app.flags\n",
        "FLAGS = tf.app.flags.FLAGS\n",
        "flags.DEFINE_float(\"learning_rate\", default = 0.0001, help = \"Initial learning rate.\")\n",
        "flags.DEFINE_integer(\"epochs\", default = 700, help = \"Number of epochs to train for\")\n",
        "flags.DEFINE_integer(\"batch_size\", default =128, help = \"Batch size.\")\n",
        "flags.DEFINE_integer(\"eval_freq\", default = 400, help =\" Frequency at which to validate the model.\")\n",
        "flags.DEFINE_float(\"kernel_posterior_scale_mean\", default = -0.9, help = \"Initial kernel posterior mean of the scale (log var) for q(w)\")\n",
        "flags.DEFINE_float(\"kernel_posterior_scale_constraint\", default = 0.2, help = \"Posterior kernel constraint for the scale (log var) for q(w)\")\n",
        "flags.DEFINE_float(\"kl_annealing\", default = 50, help = \"Epochs to anneal the KL term (anneals from 0 to 1)\")\n",
        "flags.DEFINE_integer(\"num_hidden_layers\", default = 4, help = \"Number of hidden layers\")\n",
        "flags.DEFINE_integer(\"num_monte_carlo\",\n",
        "\n",
        "                     default=50,\n",
        "\n",
        "                     help=\"Network draws to compute predictive probabilities.\")\n",
        "tf.app.flags.DEFINE_string('f', '', 'kernel')\n",
        "#initialize flags \n",
        "#FLAGS = flags.FLAGS\n",
        "print(FLAGS.learning_rate)\n",
        "print(FLAGS.epochs)\n",
        "print(FLAGS.num_monte_carlo)"
      ],
      "execution_count": 5,
      "outputs": [
        {
          "output_type": "stream",
          "text": [
            "0.0001\n",
            "700\n",
            "50\n"
          ],
          "name": "stdout"
        }
      ]
    },
    {
      "cell_type": "code",
      "metadata": {
        "id": "wyUZth9cFV5Y",
        "colab_type": "code",
        "outputId": "5bcccaf0-916c-4f15-fdb0-2c3e31039e0d",
        "colab": {
          "base_uri": "https://localhost:8080/",
          "height": 122
        }
      },
      "source": [
        "from google.colab import drive\n",
        "drive.mount(\"/content/gdrive\",force_remount=True)"
      ],
      "execution_count": 6,
      "outputs": [
        {
          "output_type": "stream",
          "text": [
            "Go to this URL in a browser: https://accounts.google.com/o/oauth2/auth?client_id=947318989803-6bn6qk8qdgf4n4g3pfee6491hc0brc4i.apps.googleusercontent.com&redirect_uri=urn%3Aietf%3Awg%3Aoauth%3A2.0%3Aoob&scope=email%20https%3A%2F%2Fwww.googleapis.com%2Fauth%2Fdocs.test%20https%3A%2F%2Fwww.googleapis.com%2Fauth%2Fdrive%20https%3A%2F%2Fwww.googleapis.com%2Fauth%2Fdrive.photos.readonly%20https%3A%2F%2Fwww.googleapis.com%2Fauth%2Fpeopleapi.readonly&response_type=code\n",
            "\n",
            "Enter your authorization code:\n",
            "··········\n",
            "Mounted at /content/gdrive\n"
          ],
          "name": "stdout"
        }
      ]
    },
    {
      "cell_type": "code",
      "metadata": {
        "id": "MMiccxD9Fb7Q",
        "colab_type": "code",
        "colab": {}
      },
      "source": [
        "!ls \"/content/gdrive/My Drive/\""
      ],
      "execution_count": 0,
      "outputs": []
    },
    {
      "cell_type": "code",
      "metadata": {
        "id": "mw2628gdFMgp",
        "colab_type": "code",
        "colab": {}
      },
      "source": [
        "# Read in the dataset\n",
        "df = pd.read_csv('/content/gdrive/My Drive/work2.csv').astype(np.float32)\n",
        "change = df.query('Speed>0').sample(frac = .1).index\n",
        "df.loc[change, 'Speed'] = 0\n",
        "df.loc[change, 'Class'] = 0\n",
        "df.to_csv('work2.csv', header = True, index =False)\n",
        "df.isnull().any().any()"
      ],
      "execution_count": 0,
      "outputs": []
    },
    {
      "cell_type": "code",
      "metadata": {
        "id": "wTTUblp6ForS",
        "colab_type": "code",
        "colab": {}
      },
      "source": [
        "X = df.iloc[:,:-1].values\n",
        "y = df.iloc[:,-1].values\n"
      ],
      "execution_count": 0,
      "outputs": []
    },
    {
      "cell_type": "code",
      "metadata": {
        "id": "Y9vu_cShFtPn",
        "colab_type": "code",
        "colab": {}
      },
      "source": [
        "\n",
        "X_train, X_test, y_train, y_test = train_test_split(X, y, test_size=0.2, random_state=200)\n",
        "\n",
        "X_train, X_val, y_train, y_val = train_test_split(X_train, y_train, test_size=0.2, random_state=1)\n",
        "\n",
        "#reshape y-data to become column vector \n",
        "y_train = np.reshape(y_train,[-1,1])\n",
        "y_val   = np.reshape(y_val,[-1,1])\n",
        "y_test  = np.reshape(y_test,[-1,1])"
      ],
      "execution_count": 0,
      "outputs": []
    },
    {
      "cell_type": "code",
      "metadata": {
        "id": "2R3FBbQtFzZx",
        "colab_type": "code",
        "colab": {}
      },
      "source": [
        "# Standardize the dataset \n",
        "#scalar_x_train = StandardScaler().fit(X_train)\n",
        "#scalar_x_test = StandardScaler().fit(X_test)\n",
        "#scalar_x_val  = StandardScaler().fit(X_val)\n",
        "#X_train = scalar_x_train.transform(X_train)\n",
        "#X_test  = scalar_x_test.transform(X_test)\n",
        "#X_val   = scalar_x_val.transform(X_val)\n",
        "#X_train.dtype"
      ],
      "execution_count": 0,
      "outputs": []
    },
    {
      "cell_type": "code",
      "metadata": {
        "id": "5g2Om-Qi8CxT",
        "colab_type": "code",
        "outputId": "c21c5f6b-e4e0-43a2-a67c-d239624aa0c3",
        "colab": {
          "base_uri": "https://localhost:8080/",
          "height": 34
        }
      },
      "source": [
        "# Standardize the dataset \n",
        "scalar_x_train = StandardScaler().fit(X_train)\n",
        "\n",
        "X_train = scalar_x_train.transform(X_train)\n",
        "X_test  = scalar_x_train.transform(X_test)\n",
        "X_val   = scalar_x_train.transform(X_val)\n",
        "X_train.dtype"
      ],
      "execution_count": 11,
      "outputs": [
        {
          "output_type": "execute_result",
          "data": {
            "text/plain": [
              "dtype('float32')"
            ]
          },
          "metadata": {
            "tags": []
          },
          "execution_count": 11
        }
      ]
    },
    {
      "cell_type": "code",
      "metadata": {
        "id": "qorPmfvQF5Ml",
        "colab_type": "code",
        "outputId": "ed805743-50e1-432a-cf19-20d94b7be23a",
        "colab": {
          "base_uri": "https://localhost:8080/",
          "height": 221
        }
      },
      "source": [
        "from tensorflow.python.client import device_lib\n",
        "device_lib.list_local_devices()"
      ],
      "execution_count": 12,
      "outputs": [
        {
          "output_type": "execute_result",
          "data": {
            "text/plain": [
              "[name: \"/device:CPU:0\"\n",
              " device_type: \"CPU\"\n",
              " memory_limit: 268435456\n",
              " locality {\n",
              " }\n",
              " incarnation: 15050795133009934617, name: \"/device:XLA_CPU:0\"\n",
              " device_type: \"XLA_CPU\"\n",
              " memory_limit: 17179869184\n",
              " locality {\n",
              " }\n",
              " incarnation: 9258454129664632648\n",
              " physical_device_desc: \"device: XLA_CPU device\"]"
            ]
          },
          "metadata": {
            "tags": []
          },
          "execution_count": 12
        }
      ]
    },
    {
      "cell_type": "code",
      "metadata": {
        "id": "BWwkiDmUOUNZ",
        "colab_type": "code",
        "colab": {}
      },
      "source": [
        "placeholder_X = tf.placeholder(tf.float32, shape = [None, 19])\n",
        "placeholder_y = tf.placeholder(tf.float32, shape = [None,1])\n",
        "#Build an iterator over training batches \n",
        "#training_dataset = tf.data.Dataset.from_tensor_slices((X_train, y_train))\n",
        "training_dataset = tf.data.Dataset.from_tensor_slices((placeholder_X, placeholder_y))\n",
        "  \n",
        "#Shuffle the dataset (note shuffle argument much larger than training size).learning_rate\n",
        "# and form batches of size batch_size\n",
        "training_batches = training_dataset.shuffle(20000, reshuffle_each_iteration =True).repeat().batch(FLAGS.batch_size,drop_remainder=True)\n",
        "#training_iterator = tf.data.make_one_shot_iterator(training_batches)\n",
        "  \n",
        "#Building iterator over the heldout set with batch_size = heldout_size,\n",
        "# i.e., return the entire heldout set as a constant.\n",
        "val_dataset = tf.data.Dataset.from_tensor_slices((placeholder_X, placeholder_y))\n",
        "val_batches =  val_dataset.repeat().batch(FLAGS.batch_size,drop_remainder=True)\n",
        "#heldout_iterator = tf.data.make_one_shot_iterator(heldout_batches)\n",
        "test_dataset = tf.data.Dataset.from_tensor_slices((X_test,y_test))\n",
        "test_dataset = test_dataset.batch(FLAGS.batch_size,drop_remainder=True)\n",
        "#Combine these into a feasible iterator that can switch between training \n",
        "# and validation inputs.\n",
        "# Here should be minibatch increment be defined \n",
        "handle = tf.placeholder(tf.string, shape = [])\n",
        "feedable_iterator = tf.data.Iterator.from_string_handle(handle, training_batches.output_types, training_batches.output_shapes)\n",
        "features_final, labels_final = feedable_iterator.get_next()\n",
        "\n",
        "\n",
        "\n"
      ],
      "execution_count": 0,
      "outputs": []
    },
    {
      "cell_type": "code",
      "metadata": {
        "id": "KOLj-NVHa_Rg",
        "colab_type": "code",
        "colab": {}
      },
      "source": [
        "def main(argv):\n",
        "  # extract the activation function from the hyperopt spec as an attribute from the tf.nn module \n",
        "  #activation = getattr(tf.nn, FLAGS.activation_function)\n",
        "  # define the graph \n",
        "  #with tf.Graph().as_default():\n",
        "    \n",
        "  # Building the Bayesian Neural Network \n",
        "  # we are Gaussian Reparametrization Trick \n",
        "  # to compute the stochastic gradients as described in the paper \n",
        "  with tf.compat.v1.name_scope(\"bayesian_neural_net\", values =[features_final]):\n",
        "    neural_net = tf.keras.Sequential()\n",
        "    for i in range(FLAGS.num_hidden_layers):\n",
        "      layer = tfp.layers.DenseReparameterization(\n",
        "          units = 10,\n",
        "          activation = tf.nn.relu,\n",
        "          trainable = True,\n",
        "          kernel_prior_fn=tfp.layers.default_multivariate_normal_fn, # NormalDiag\n",
        "          kernel_posterior_fn=tfp.layers.default_mean_field_normal_fn(),\n",
        "          #kernel_posterior_fn=tfp_layers_util.default_mean_field_normal_fn(), # softplus(sigma)\n",
        "          kernel_posterior_tensor_fn=lambda x: x.sample(),\n",
        "          bias_prior_fn=tfp.layers.default_multivariate_normal_fn, # NormalDiag\n",
        "          bias_posterior_fn=tfp.layers.default_mean_field_normal_fn(), # softplus(sigma)\n",
        "          bias_posterior_tensor_fn=lambda x: x.sample()\n",
        "          )\n",
        "      neural_net.add(layer)\n",
        "  neural_net.add(tfp.layers.DenseReparameterization(\n",
        "      units=2, # one dimensional output\n",
        "      activation= tf.nn.softmax, # since regression (outcome not bounded)\n",
        "      trainable=True, # i.e subject to optimization\n",
        "      kernel_prior_fn=tfp.layers.default_multivariate_normal_fn, # NormalDiag with hyperopt sigma\n",
        "      kernel_posterior_fn=tfp.layers.default_mean_field_normal_fn(), # softplus(sigma)\n",
        "      kernel_posterior_tensor_fn=lambda x: x.sample(),\n",
        "      bias_prior_fn =tfp.layers.default_multivariate_normal_fn, # NormalDiag with hyperopt sigma\n",
        "      bias_posterior_fn=tfp.layers.default_mean_field_normal_fn(), # softplus(sigma)\n",
        "      bias_posterior_tensor_fn=lambda x: x.sample()\n",
        "      ))\n",
        "  logits = neural_net(features_final)\n",
        "  #labels_distribution = tfd.Bernoulli(logits=logits)\n",
        "  labels_distribution = tfd.Categorical(logits=logits)\n",
        "  \n",
        "  \n",
        "  # Perform KL annealing. The optimal number of annealing steps \n",
        "  # depends on the dataset and architecture.\n",
        "  t = tf.Variable(0.0)\n",
        "  kl_regularizer = t / (FLAGS.kl_annealing * len(X_train) / FLAGS.batch_size)\n",
        "  \n",
        "  #Compute the -ELBO as the loss. The kl term is annealed from 1 to 1 over \n",
        "  # the epochs specified by the kl_annealing flag.\n",
        "  log_likelihood = labels_distribution.log_prob(labels_final)\n",
        "  #neg_log_likelihood = tf.reduce_mean(tf.squared_difference(logits,labels_final))\n",
        "  neg_log_likelihood = -tf.reduce_mean(input_tensor = log_likelihood)\n",
        "  kl = sum(neural_net.losses)/len(X_train) * tf.minimum(1.0, kl_regularizer)\n",
        "  elbo_loss = neg_log_likelihood + kl\n",
        "  \n",
        "  # Build metrics for evaluation. Predictions are formed from single forward \n",
        "  # pass of the probablisitic layers . They are cheap but noisy predictions\n",
        "  predictions = tf.argmax(input = logits, axis=1)\n",
        "  predictions = tf.cast(predictions, tf.float32)\n",
        "  # TP, TN, FP, FN\n",
        "  TP = tf.count_nonzero(predictions * labels_final)\n",
        "  TN = tf.count_nonzero((predictions - 1) * (labels_final - 1))\n",
        "  FP = tf.count_nonzero(predictions * (labels_final - 1))\n",
        "  FN = tf.count_nonzero((predictions - 1) * labels_final)\n",
        "  # precision, recall, f1\n",
        "  precision = TP / (TP + FP)\n",
        "  recall = TP / (TP + FN)\n",
        "  f1 = 2 * precision * recall / (precision + recall)\n",
        "  \n",
        "  tpr = TP/(TP+FN)\n",
        "  fpr = FP/(TP+FN)\n",
        "  \n",
        "  #create Reinitializable iterator for Train and Validation, one hot iterator for Test \n",
        "  train_val_iterator = tf.data.Iterator.from_structure(training_batches.output_types, training_batches.output_shapes)\n",
        "  training_iterator = train_val_iterator.make_initializer(training_batches)\n",
        "  val_iterator = train_val_iterator.make_initializer(val_batches)\n",
        "  test_iterator = test_dataset.make_one_shot_iterator()\n",
        "  with tf.compat.v1.name_scope(\"train\"):\n",
        "    train_accuracy, train_accuracy_update_op = tf.metrics.accuracy(labels=labels_final,predictions =predictions)\n",
        "    opt = tf.train.AdamOptimizer(FLAGS.learning_rate)\n",
        "    train_op = opt.minimize(elbo_loss)\n",
        "    update_step_op = tf.assign(t, t+1)\n",
        "  \n",
        "  with tf.compat.v1.name_scope(\"valid\"):\n",
        "    valid_accuracy, validation_accuracy_update_op = tf.metrics.accuracy(labels= labels_final,predictions = predictions)\n",
        "  with tf.compat.v1.name_scope(\"test\"):\n",
        "    test_accuracy, test_accuracy_update_op = tf.metrics.accuracy(labels = labels_final,predictions = predictions)\n",
        "  \n",
        "  init_op = tf.group(tf.global_variables_initializer(),\n",
        "                     tf.local_variables_initializer())\n",
        "  saver = tf.train.Saver()\n",
        "  \n",
        "  stream_vars_valid = [ v for v in tf.local_variables() if \"valid\" in v.name]\n",
        "  \n",
        "  reset_valid_op = tf.variables_initializer(stream_vars_valid)\n",
        "  \n",
        "  valid_accuracy_summary = []\n",
        "  stop_early =0\n",
        "  with tf.compat.v1.Session() as sess:\n",
        "    sess.run(init_op)\n",
        "    \n",
        "    # Run the training loop\n",
        "    train_val_string, test_string = sess.run([\n",
        "    train_val_iterator.string_handle(),\n",
        "    test_iterator.string_handle()])\n",
        "\n",
        "    training_steps = int(round(FLAGS.epochs * (len(X_train) / FLAGS.batch_size)))\n",
        "\n",
        "    for step in range(training_steps):\n",
        "      #start reininitializable's train iterator \n",
        "      sess.run(training_iterator, feed_dict = {placeholder_X:X_train, placeholder_y:y_train})\n",
        "      #\n",
        "\n",
        "      _ = sess.run([train_op,train_accuracy_update_op, update_step_op],feed_dict={handle:   train_val_string})\n",
        "      \n",
        "      # Manually print the frequency \n",
        "      if step % 100 == 0:\n",
        "        save_path = saver.save(sess, \"/tmp/my_model.ckpt\")\n",
        "        loss_value, accuracy_value, kl_value = sess.run([elbo_loss, train_accuracy, kl], feed_dict= {handle:  train_val_string})\n",
        "        print(\"Step:{:>3d} loss : {:.3f} KL: {:.3f}\" .format(step , loss_value, accuracy_value, kl_value))\n",
        "        \n",
        "        \n",
        "      if (step +1) % FLAGS.eval_freq ==0: \n",
        "        # Compute log prob of heldout set by averaging draws from the model:\n",
        "        # p(heldout | train) = int_model p(heldout|model) p(model|train) ~= 1/n * sum_{i=1}^n p(heldout | model_i)\n",
        "        # where model_i is a draw from the posterior \n",
        "        #p(model|train)\n",
        "        probs = np.asarray([sess.run((labels_distribution.probs), \n",
        "                                     feed_dict ={handle:  train_val_string})\n",
        "      \n",
        "                            for _ in range(FLAGS.num_monte_carlo)])\n",
        "        mean_probs = np.mean(probs, axis =0).astype(np.int32)\n",
        "        print(mean_probs.dtype)\n",
        "        \n",
        "        _, label_vals = sess.run((features_final, labels_final), feed_dict = {handle:   train_val_string})\n",
        "        label_vals = (label_vals).astype(np.int32)\n",
        "      \n",
        "        heldout_lp = np.mean(np.log(mean_probs[np.arange(mean_probs.shape[0]), label_vals]))\n",
        "        \n",
        "        \n",
        "        print(\" ...Held_out nats: {:.3f}\".format(heldout_lp))\n",
        "        \n",
        "       # Calculate validation accuracy\n",
        "\n",
        "      for step in range(10):\n",
        "        #start reinitializable's validation iterator \n",
        "        sess.run(val_iterator, feed_dict = {placeholder_X:X_val, placeholder_y:y_val})\n",
        "        sess.run(validation_accuracy_update_op, feed_dict={handle:train_val_string})\n",
        "\n",
        "        valid_value = sess.run(valid_accuracy, feed_dict={handle:train_val_string})\n",
        "        \n",
        "        valid_accuracy_summary.append(valid_value)\n",
        "        if valid_value < max(valid_accuracy_summary) and step > 100:\n",
        "          stop_early += 1\n",
        "          if stop_early == 40:\n",
        "            break\n",
        "        else:\n",
        "          stop_early = 0\n",
        "        \n",
        "        print('Label_final:',labels_final)\n",
        "        \n",
        "        print(\"Validation Accuracy: {:.3f}\".format(valid_value))\n",
        "        sess.run(reset_valid_op)\n",
        "      \n",
        "    for step in range(100): \n",
        "        _ = sess.run((features_final, labels_final), feed_dict = {handle:test_string})\n",
        "       \n",
        "        test_value, precision_value, recall_value, fpr_value, tpr_value,f1_value = sess.run([test_accuracy, precision, recall, fpr, tpr,f1],feed_dict={handle:test_string})\n",
        "        \n",
        "        \n",
        "        print(\"Step: {:>3d} test Accuracy: {:.3f} Precision: {:.3f} Recall: {:.3f} \".format(step, test_value, precision_value, recall_value))\n",
        "        \n",
        "        print(\"Step: {:>3d} fpr: {:.3f} tpr: {:.3f} f1_1: {:.3f}\".format( step, fpr_value, tpr_value,f1_value))\n",
        "        \n",
        "        \n",
        "        \n",
        "        \n",
        "if __name__ == \"__main__\":\n",
        "  tf.compat.v1.app.run()\n",
        "  "
      ],
      "execution_count": 0,
      "outputs": []
    },
    {
      "cell_type": "code",
      "metadata": {
        "id": "lqQQyBYDsRd2",
        "colab_type": "code",
        "colab": {}
      },
      "source": [
        ""
      ],
      "execution_count": 0,
      "outputs": []
    },
    {
      "cell_type": "code",
      "metadata": {
        "id": "SsDbKB8s6y1k",
        "colab_type": "code",
        "colab": {}
      },
      "source": [
        "# create the training datasets\n",
        "dx_train = tf.data.Dataset.from_tensor_slices(X_train)\n",
        "# apply a one-hot transformation to each label for use in the neural network\n",
        "dy_train = tf.data.Dataset.from_tensor_slices(y_train)\n",
        "# zip the x and y training data together and shuffle, batch etc.\n",
        "train_dataset = tf.data.Dataset.zip((dx_train, dy_train)).shuffle(500).repeat().batch(8)"
      ],
      "execution_count": 0,
      "outputs": []
    },
    {
      "cell_type": "code",
      "metadata": {
        "id": "wqE__LXp8O2e",
        "colab_type": "code",
        "colab": {}
      },
      "source": [
        "# do the same operations for the validation set\n",
        "dx_valid = tf.data.Dataset.from_tensor_slices(X_test)\n",
        "dy_valid = tf.data.Dataset.from_tensor_slices(y_test)\n",
        "valid_dataset = tf.data.Dataset.zip((dx_valid, dy_valid)).shuffle(500).repeat().batch(30)"
      ],
      "execution_count": 0,
      "outputs": []
    },
    {
      "cell_type": "code",
      "metadata": {
        "id": "15H6bFJr8YBp",
        "colab_type": "code",
        "colab": {}
      },
      "source": [
        "# create general iterator\n",
        "iterator = tf.data.Iterator.from_structure(train_dataset.output_types,\n",
        "                                               train_dataset.output_shapes)\n",
        "next_element = iterator.get_next()"
      ],
      "execution_count": 0,
      "outputs": []
    },
    {
      "cell_type": "code",
      "metadata": {
        "id": "950KHnXX86nb",
        "colab_type": "code",
        "colab": {}
      },
      "source": [
        "# make datasets that we can initialize separately, but using the same structure via the common iterator\n",
        "training_init_op = iterator.make_initializer(train_dataset)\n",
        "validation_init_op = iterator.make_initializer(valid_dataset)"
      ],
      "execution_count": 0,
      "outputs": []
    },
    {
      "cell_type": "code",
      "metadata": {
        "id": "9bnpSRzD8-Ob",
        "colab_type": "code",
        "colab": {}
      },
      "source": [
        "def nn_model(in_data):\n",
        "    bn = tf.layers.batch_normalization(in_data)\n",
        "    fc1 = tf.layers.dense(bn, 19)\n",
        "    fc2 = tf.layers.dense(fc1, 8)\n",
        "    fc3 = tf.layers.dense(fc2, 2)\n",
        "    return fc3"
      ],
      "execution_count": 0,
      "outputs": []
    },
    {
      "cell_type": "code",
      "metadata": {
        "id": "Htk6gugl9CF0",
        "colab_type": "code",
        "colab": {}
      },
      "source": [
        "# create the neural network model\n",
        "logits = nn_model(next_element[0])"
      ],
      "execution_count": 0,
      "outputs": []
    },
    {
      "cell_type": "code",
      "metadata": {
        "id": "W5dH11Qw9JBf",
        "colab_type": "code",
        "colab": {}
      },
      "source": [
        "# add the optimizer and loss\n",
        "loss = tf.reduce_sum(tf.nn.softmax_cross_entropy_with_logits_v2(labels=next_element[1], logits=logits))\n",
        "optimizer = tf.train.AdamOptimizer(1e-8).minimize(loss)\n",
        "# get accuracy\n",
        "predictions = tf.argmax(logits, 1)\n",
        "equality = tf.equal(predictions, tf.argmax(next_element[1], 1))\n",
        "accuracy = tf.reduce_mean(tf.cast(equality, tf.float32))\n",
        "\n",
        "\n",
        "#TP, TN, FP, FN\n",
        "TP = tf.count_nonzero(predictions * y_test, dtype=tf.float32)\n",
        "TN = tf.count_nonzero((predictions-1)*(y_test-1), dtype=tf.float32)\n",
        "FP = tf.count_nonzero(predictions*(y_test-1), dtype=tf.float32)\n",
        "FN = tf.count_nonzero((predictions-1)*y_test, dtype=tf.float32)\n",
        "#precision, recall, f1\n",
        "precision = TP / (TP + FP)\n",
        "recall = TP / (TP + FN)\n",
        "f1 = 2 * precision * precision * recall / (precision + recall)\n",
        "tpr = TP/(TP+FN)\n",
        "fpr = FP/(TP+FN)\n",
        "\n",
        "init_op = tf.global_variables_initializer()"
      ],
      "execution_count": 0,
      "outputs": []
    },
    {
      "cell_type": "code",
      "metadata": {
        "id": "Ahp2boNx9MyX",
        "colab_type": "code",
        "colab": {}
      },
      "source": [
        "# run the training\n",
        "epochs = 600\n",
        "with tf.Session() as sess:\n",
        "    sess.run(init_op)\n",
        "    sess.run(training_init_op)\n",
        "    for i in range(epochs):\n",
        "        l, _, acc = sess.run([loss, optimizer, accuracy])\n",
        "        if i % 50 == 0:\n",
        "            print(\"Epoch: {}, loss: {:.3f}, training accuracy: {:.2f}%\".format(i, l, acc * 100))\n",
        "    # now setup the validation run\n",
        "    valid_iters = 1000\n",
        "    # re-initialize the iterator, but this time with validation data\n",
        "    sess.run(validation_init_op)\n",
        "    avg_acc = 0\n",
        "    for i in range(valid_iters):\n",
        "        \n",
        "        loss_value, valid_accuracy, precision_value, recall_value, fpr_value, tpr_value,f1_value = sess.run([loss, accuracy, precision, recall, fpr, tpr,f1])\n",
        "        print(\"Step: {:>3d} loss: {:.3f} Validation Accuracy: {:.3f} Precision: {:.3f} Recall: {:.3f} fpr:{:.3f} tpr:{:.3f} f1:{:.3f} \".format(\n",
        "            i, loss_value, valid_accuracy, precision_value, recall_value, fpr_value, tpr_value, f1_value))\n",
        "        \n",
        "        \n",
        "        \n",
        "        \n",
        "        acc = sess.run([accuracy])\n",
        "        avg_acc += acc[0]\n",
        "        print(\"Average validation set accuracy over {} iterations is {:.2f}%\".format(valid_iters,(avg_acc ) ))   "
      ],
      "execution_count": 0,
      "outputs": []
    },
    {
      "cell_type": "code",
      "metadata": {
        "id": "B_gMBuw_9Wnb",
        "colab_type": "code",
        "colab": {}
      },
      "source": [
        "%matplotlib inline\n",
        "import numpy as np\n",
        "import pandas as pd\n",
        "import matplotlib.pyplot as plt\n",
        "from sklearn import svm\n",
        "from sklearn.metrics import classification_report, confusion_matrix, accuracy_score, precision_score, recall_score,  f1_score\n",
        "\n",
        "#clf = svm.SVC(kernel='rbf',degree=3, probability=False,tol=0.001)\n",
        "#clf = RandomForestClassifier(n_estimators=100,random_state=0)\n",
        "clf = LogisticRegression(C=0.1)\n",
        "clf.fit(X_train,y_train)\n",
        "y_pred = clf.predict(X_test)\n",
        "fpr, tpr = roc_curve(y_test,y_pred)\n",
        "print(confusion_matrix(y_test,y_pred))  \n",
        "print(classification_report(y_test,y_pred))  \n",
        "print(precision_score(y_test,y_pred))\n",
        "print( recall_score(y_test,y_pred))\n",
        "print( f1_score(y_test,y_pred))\n",
        "print(accuracy_score(y_test, y_pred))\n",
        "print(fpr, tpr)"
      ],
      "execution_count": 0,
      "outputs": []
    }
  ]
}