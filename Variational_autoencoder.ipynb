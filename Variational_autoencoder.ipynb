{
  "nbformat": 4,
  "nbformat_minor": 0,
  "metadata": {
    "colab": {
      "name": "Variational_autoencoder.ipynb",
      "version": "0.3.2",
      "provenance": [],
      "collapsed_sections": [],
      "include_colab_link": true
    },
    "kernelspec": {
      "name": "python3",
      "display_name": "Python 3"
    },
    "accelerator": "TPU"
  },
  "cells": [
    {
      "cell_type": "markdown",
      "metadata": {
        "id": "view-in-github",
        "colab_type": "text"
      },
      "source": [
        "<a href=\"https://colab.research.google.com/github/EziamaUgonna/Bayesian_analysis-/blob/master/Variational_autoencoder.ipynb\" target=\"_parent\"><img src=\"https://colab.research.google.com/assets/colab-badge.svg\" alt=\"Open In Colab\"/></a>"
      ]
    },
    {
      "cell_type": "code",
      "metadata": {
        "id": "or8JCeGpNeiv",
        "colab_type": "code",
        "outputId": "83b78433-a279-49b6-e225-f17d8d8e6f79",
        "colab": {
          "base_uri": "https://localhost:8080/",
          "height": 476
        }
      },
      "source": [
        "!pip install --upgrade tf-nightly-gpu-2.0-preview tfp-nightly\n",
        "!pip install --upgrade -q gspread\n",
        "from tensorboardcolab import *\n",
        "import shutil\n",
        "#clean out the directory\n",
        "shutil.rmtree('./Graph', ignore_errors=True)\n",
        "os.mkdir('./Graph')\n",
        "#tf.reset_default_graph()\n",
        "#will start the tunneling and will print out a link:\n",
        "tbc=TensorBoardColab()\n"
      ],
      "execution_count": 1,
      "outputs": [
        {
          "output_type": "stream",
          "text": [
            "Requirement already up-to-date: tf-nightly-gpu-2.0-preview in /usr/local/lib/python3.6/dist-packages (2.0.0.dev20190603)\n",
            "Requirement already up-to-date: tfp-nightly in /usr/local/lib/python3.6/dist-packages (0.8.0.dev20190603)\n",
            "Requirement already satisfied, skipping upgrade: absl-py>=0.7.0 in /usr/local/lib/python3.6/dist-packages (from tf-nightly-gpu-2.0-preview) (0.7.1)\n",
            "Requirement already satisfied, skipping upgrade: astor>=0.6.0 in /usr/local/lib/python3.6/dist-packages (from tf-nightly-gpu-2.0-preview) (0.8.0)\n",
            "Requirement already satisfied, skipping upgrade: wrapt>=1.11.1 in /usr/local/lib/python3.6/dist-packages (from tf-nightly-gpu-2.0-preview) (1.11.1)\n",
            "Requirement already satisfied, skipping upgrade: gast>=0.2.0 in /usr/local/lib/python3.6/dist-packages (from tf-nightly-gpu-2.0-preview) (0.2.2)\n",
            "Requirement already satisfied, skipping upgrade: keras-applications>=1.0.6 in /usr/local/lib/python3.6/dist-packages (from tf-nightly-gpu-2.0-preview) (1.0.7)\n",
            "Requirement already satisfied, skipping upgrade: wheel>=0.26 in /usr/local/lib/python3.6/dist-packages (from tf-nightly-gpu-2.0-preview) (0.33.4)\n",
            "Requirement already satisfied, skipping upgrade: protobuf>=3.6.1 in /usr/local/lib/python3.6/dist-packages (from tf-nightly-gpu-2.0-preview) (3.7.1)\n",
            "Requirement already satisfied, skipping upgrade: google-pasta>=0.1.6 in /usr/local/lib/python3.6/dist-packages (from tf-nightly-gpu-2.0-preview) (0.1.7)\n",
            "Requirement already satisfied, skipping upgrade: six>=1.10.0 in /usr/local/lib/python3.6/dist-packages (from tf-nightly-gpu-2.0-preview) (1.12.0)\n",
            "Requirement already satisfied, skipping upgrade: grpcio>=1.8.6 in /usr/local/lib/python3.6/dist-packages (from tf-nightly-gpu-2.0-preview) (1.15.0)\n",
            "Requirement already satisfied, skipping upgrade: numpy<2.0,>=1.14.5 in /usr/local/lib/python3.6/dist-packages (from tf-nightly-gpu-2.0-preview) (1.16.4)\n",
            "Requirement already satisfied, skipping upgrade: keras-preprocessing>=1.0.5 in /usr/local/lib/python3.6/dist-packages (from tf-nightly-gpu-2.0-preview) (1.0.9)\n",
            "Requirement already satisfied, skipping upgrade: termcolor>=1.1.0 in /usr/local/lib/python3.6/dist-packages (from tf-nightly-gpu-2.0-preview) (1.1.0)\n",
            "Requirement already satisfied, skipping upgrade: tensorflow-estimator-2.0-preview in /usr/local/lib/python3.6/dist-packages (from tf-nightly-gpu-2.0-preview) (1.14.0.dev2019060300)\n",
            "Requirement already satisfied, skipping upgrade: tb-nightly<1.15.0a0,>=1.14.0a0 in /usr/local/lib/python3.6/dist-packages (from tf-nightly-gpu-2.0-preview) (1.14.0a20190603)\n",
            "Requirement already satisfied, skipping upgrade: cloudpickle>=0.6.1 in /usr/local/lib/python3.6/dist-packages (from tfp-nightly) (0.6.1)\n",
            "Requirement already satisfied, skipping upgrade: decorator in /usr/local/lib/python3.6/dist-packages (from tfp-nightly) (4.4.0)\n",
            "Requirement already satisfied, skipping upgrade: h5py in /usr/local/lib/python3.6/dist-packages (from keras-applications>=1.0.6->tf-nightly-gpu-2.0-preview) (2.8.0)\n",
            "Requirement already satisfied, skipping upgrade: setuptools in /usr/local/lib/python3.6/dist-packages (from protobuf>=3.6.1->tf-nightly-gpu-2.0-preview) (41.0.1)\n",
            "Requirement already satisfied, skipping upgrade: markdown>=2.6.8 in /usr/local/lib/python3.6/dist-packages (from tb-nightly<1.15.0a0,>=1.14.0a0->tf-nightly-gpu-2.0-preview) (3.1.1)\n",
            "Requirement already satisfied, skipping upgrade: werkzeug>=0.11.15 in /usr/local/lib/python3.6/dist-packages (from tb-nightly<1.15.0a0,>=1.14.0a0->tf-nightly-gpu-2.0-preview) (0.15.4)\n"
          ],
          "name": "stdout"
        },
        {
          "output_type": "stream",
          "text": [
            "Using TensorFlow backend.\n"
          ],
          "name": "stderr"
        },
        {
          "output_type": "stream",
          "text": [
            "Wait for 8 seconds...\n",
            "TensorBoard link:\n",
            "https://3d262dce.ngrok.io\n"
          ],
          "name": "stdout"
        }
      ]
    },
    {
      "cell_type": "code",
      "metadata": {
        "id": "FQgctPMaNooJ",
        "colab_type": "code",
        "colab": {}
      },
      "source": [
        "from __future__ import absolute_import\n",
        "from __future__ import division\n",
        "from __future__ import print_function\n",
        "from __future__ import unicode_literals "
      ],
      "execution_count": 0,
      "outputs": []
    },
    {
      "cell_type": "code",
      "metadata": {
        "id": "PjTJ1QVvNo3O",
        "colab_type": "code",
        "colab": {
          "base_uri": "https://localhost:8080/",
          "height": 51
        },
        "outputId": "1ad50ceb-5975-48b2-86b3-c7a1c84640d1"
      },
      "source": [
        "# Dependencies\n",
        "import os \n",
        "import warnings \n",
        "#from absl import flags \n",
        "import matplotlib \n",
        "import numpy as np \n",
        "import math\n",
        "import pandas as pd\n",
        "from sklearn.model_selection import train_test_split\n",
        "from sklearn.preprocessing import StandardScaler\n",
        "from __future__ import absolute_import, division, print_function, unicode_literals\n",
        "#from hyperopt import fmin, tpe, hp, STATUS_OK, STATUS_FAIL, Trials\n",
        "#import python_utils\n",
        "import tensorflow as tf \n",
        "import tensorflow_probability as tfp\n",
        "tfd = tfp.distributions\n",
        "#from tutorial\n",
        "print(\"tf_version: \",tf.__version__)\n",
        "print(\"tfp_version: \", tfp.__version__)"
      ],
      "execution_count": 3,
      "outputs": [
        {
          "output_type": "stream",
          "text": [
            "tf_version:  2.0.0-dev20190603\n",
            "tfp_version:  0.8.0-dev20190603\n"
          ],
          "name": "stdout"
        }
      ]
    },
    {
      "cell_type": "code",
      "metadata": {
        "id": "__OREXy6N2j-",
        "colab_type": "code",
        "outputId": "744c4100-90ae-46bb-c573-627ce046f6d3",
        "colab": {
          "base_uri": "https://localhost:8080/",
          "height": 122
        }
      },
      "source": [
        "from google.colab import drive\n",
        "drive.mount(\"/content/gdrive\")"
      ],
      "execution_count": 4,
      "outputs": [
        {
          "output_type": "stream",
          "text": [
            "Go to this URL in a browser: https://accounts.google.com/o/oauth2/auth?client_id=947318989803-6bn6qk8qdgf4n4g3pfee6491hc0brc4i.apps.googleusercontent.com&redirect_uri=urn%3Aietf%3Awg%3Aoauth%3A2.0%3Aoob&scope=email%20https%3A%2F%2Fwww.googleapis.com%2Fauth%2Fdocs.test%20https%3A%2F%2Fwww.googleapis.com%2Fauth%2Fdrive%20https%3A%2F%2Fwww.googleapis.com%2Fauth%2Fdrive.photos.readonly%20https%3A%2F%2Fwww.googleapis.com%2Fauth%2Fpeopleapi.readonly&response_type=code\n",
            "\n",
            "Enter your authorization code:\n",
            "··········\n",
            "Mounted at /content/gdrive\n"
          ],
          "name": "stdout"
        }
      ]
    },
    {
      "cell_type": "code",
      "metadata": {
        "id": "t8eAQXJON5xu",
        "colab_type": "code",
        "colab": {
          "base_uri": "https://localhost:8080/",
          "height": 102
        },
        "outputId": "19f3bd89-4cd5-426a-fca6-4d60111cf384"
      },
      "source": [
        "# Read in the dataset\n",
        "df = pd.read_csv('/content/gdrive/My Drive/work2.csv').astype(np.float32)\n",
        "change = df.query('Speed>0').sample(frac = .1).index\n",
        "df.loc[change, 'Speed'] = 0\n",
        "df.loc[change, 'Class'] = 0\n",
        "df.to_csv('work2.csv', header = True, index =False)\n",
        "df.shape\n",
        "\n",
        "df.columns"
      ],
      "execution_count": 5,
      "outputs": [
        {
          "output_type": "execute_result",
          "data": {
            "text/plain": [
              "Index(['RxDevice', 'FileID', 'TxDevice', 'Gentime', 'TxRandom', 'MsgCount',\n",
              "       'Dsecond', 'Latitude', 'Longitude', 'Elevation', 'Speed', 'Heading',\n",
              "       'Ax', 'Ay', 'Az', 'Yawrate', 'PathCount', 'RadiusOfCurve', 'Confidence',\n",
              "       'Class'],\n",
              "      dtype='object')"
            ]
          },
          "metadata": {
            "tags": []
          },
          "execution_count": 5
        }
      ]
    },
    {
      "cell_type": "code",
      "metadata": {
        "id": "HbzxbLLPN8zt",
        "colab_type": "code",
        "colab": {}
      },
      "source": [
        "df_train, df_test = train_test_split(df, test_size=0.25)\n",
        "\n",
        "\n",
        "X = df_train.iloc[:,:-1].values\n",
        "y = df_train.iloc[:,-1].values"
      ],
      "execution_count": 0,
      "outputs": []
    },
    {
      "cell_type": "code",
      "metadata": {
        "id": "QTB62aX7Occu",
        "colab_type": "code",
        "colab": {}
      },
      "source": [
        "original_dim = X.shape[1]\n",
        "input_shape = X[0].shape\n",
        "intermediary_dims = [20, 10, 8]\n",
        "latent_dim = 2\n",
        "batch_size = 128\n",
        "max_epochs = 1000"
      ],
      "execution_count": 0,
      "outputs": []
    },
    {
      "cell_type": "code",
      "metadata": {
        "id": "aOBgYvkRStGo",
        "colab_type": "code",
        "colab": {}
      },
      "source": [
        "#Computation of Prior \n",
        "tfd = tfp.distributions\n",
        "tfpl = tfp.layers\n",
        "tfk = tf.keras\n",
        "tfkl = tf.keras.layers\n",
        "prior = tfd.MultivariateNormalDiag(\n",
        "        loc=tf.zeros([latent_dim]),\n",
        "        scale_identity_multiplier=1.0)\n"
      ],
      "execution_count": 0,
      "outputs": []
    },
    {
      "cell_type": "code",
      "metadata": {
        "id": "1SJzXRuZb6ip",
        "colab_type": "code",
        "outputId": "03acaa98-2d04-4923-a505-ac19637c2b38",
        "colab": {
          "base_uri": "https://localhost:8080/",
          "height": 34
        }
      },
      "source": [
        "!pwd"
      ],
      "execution_count": 9,
      "outputs": [
        {
          "output_type": "stream",
          "text": [
            "/content\n"
          ],
          "name": "stdout"
        }
      ]
    },
    {
      "cell_type": "code",
      "metadata": {
        "id": "xY2j67ecOcp9",
        "colab_type": "code",
        "outputId": "518f3ace-7e94-48bf-85e4-c784083277cf",
        "colab": {
          "base_uri": "https://localhost:8080/",
          "height": 1494
        }
      },
      "source": [
        "\n",
        "\n",
        "def dense_layers(sizes):\n",
        "    return tfk.Sequential([tfkl.Dense(size, activation=tf.nn.leaky_relu) for size in sizes])\n",
        "encoder = tfk.Sequential([\n",
        "    tfkl.InputLayer(input_shape=input_shape),\n",
        "    dense_layers(intermediary_dims),\n",
        "    tfkl.Dense(latent_dim, activation = tf.nn.leaky_relu),\n",
        "    tfkl.Dense(tfpl.MultivariateNormalTriL.params_size(latent_dim), activation=None),\n",
        "    tfpl.MultivariateNormalTriL(latent_dim,activity_regularizer=tfpl.KLDivergenceRegularizer(prior)),\n",
        "], name='encoder')\n",
        "\n",
        "from keras.utils import plot_model\n",
        "#plot model error \n",
        "#check https://github.com/tensorflow/tensorflow/pull/24625\n",
        "encoder.summary()\n",
        "tf.keras.utils.plot_model(encoder, to_file='vae_mlp_encoder.png', show_shapes=True)\n",
        "\n",
        "decoder = tfk.Sequential([\n",
        "    tfkl.InputLayer(input_shape=[latent_dim]),\n",
        "    dense_layers(reversed(intermediary_dims)),\n",
        "    tfkl.Dense(tfpl.IndependentNormal.params_size(original_dim), activation=None),\n",
        "    tfpl.IndependentNormal(original_dim),\n",
        "], name='decoder')\n",
        "\n",
        "decoder.summary()\n",
        "tf.keras.utils.plot_model(decoder, to_file='vae_mlp_decoder.png', show_shapes=True)\n",
        "\n",
        "vae = tfk.Model(inputs=encoder.inputs,\n",
        "                outputs=decoder(encoder.outputs[0]),\n",
        "                name='vae_mlp')\n",
        "\n",
        "negloglik = lambda x, rv_x: -rv_x.log_prob(x)\n",
        "\n",
        "vae.compile(optimizer=tf.keras.optimizers.Nadam(), \n",
        "            loss=negloglik)\n",
        "\n",
        "vae.summary()\n",
        "tf.keras.utils.plot_model(vae,to_file='vae_mlp.png',show_shapes=True)"
      ],
      "execution_count": 10,
      "outputs": [
        {
          "output_type": "stream",
          "text": [
            "Model: \"encoder\"\n",
            "_________________________________________________________________\n",
            "Layer (type)                 Output Shape              Param #   \n",
            "=================================================================\n",
            "sequential (Sequential)      (None, 8)                 698       \n",
            "_________________________________________________________________\n",
            "dense_3 (Dense)              (None, 2)                 18        \n",
            "_________________________________________________________________\n",
            "dense_4 (Dense)              (None, 5)                 15        \n",
            "_________________________________________________________________\n",
            "multivariate_normal_tri_l (M ((None, 2), (None, 2))    0         \n",
            "=================================================================\n",
            "Total params: 731\n",
            "Trainable params: 731\n",
            "Non-trainable params: 0\n",
            "_________________________________________________________________\n",
            "Model: \"decoder\"\n",
            "_________________________________________________________________\n",
            "Layer (type)                 Output Shape              Param #   \n",
            "=================================================================\n",
            "sequential_1 (Sequential)    (None, 20)                334       \n",
            "_________________________________________________________________\n",
            "dense_8 (Dense)              (None, 38)                798       \n",
            "_________________________________________________________________\n",
            "independent_normal (Independ ((None, 19), (None, 19))  0         \n",
            "=================================================================\n",
            "Total params: 1,132\n",
            "Trainable params: 1,132\n",
            "Non-trainable params: 0\n",
            "_________________________________________________________________\n",
            "Model: \"vae_mlp\"\n",
            "_________________________________________________________________\n",
            "Layer (type)                 Output Shape              Param #   \n",
            "=================================================================\n",
            "input_1 (InputLayer)         [(None, 19)]              0         \n",
            "_________________________________________________________________\n",
            "sequential (Sequential)      (None, 8)                 698       \n",
            "_________________________________________________________________\n",
            "dense_3 (Dense)              (None, 2)                 18        \n",
            "_________________________________________________________________\n",
            "dense_4 (Dense)              (None, 5)                 15        \n",
            "_________________________________________________________________\n",
            "multivariate_normal_tri_l (M ((None, 2), (None, 2))    0         \n",
            "_________________________________________________________________\n",
            "decoder (Sequential)         (None, 19)                1132      \n",
            "=================================================================\n",
            "Total params: 1,863\n",
            "Trainable params: 1,863\n",
            "Non-trainable params: 0\n",
            "_________________________________________________________________\n"
          ],
          "name": "stdout"
        },
        {
          "output_type": "execute_result",
          "data": {
            "image/png": "[encoded data removed]",
            "text/plain": [
              "<IPython.core.display.Image object>"
            ]
          },
          "metadata": {
            "tags": []
          },
          "execution_count": 10
        }
      ]
    },
    {
      "cell_type": "code",
      "metadata": {
        "id": "meNL-QZ3O1TH",
        "colab_type": "code",
        "colab": {}
      },
      "source": [
        "#x_norm, x_fraud = X.values[y == 0], X.values[y == 1]\n",
        "x_norm, x_fraud = X[y == 0], X[y == 1]\n",
        "\n",
        "x_norm_sample = x_norm[np.random.randint(x_norm.shape[0], size=100000), :]\n",
        "x_norm_train_sample, x_norm_val_sample = train_test_split(x_norm_sample, test_size=0.2)\n"
      ],
      "execution_count": 0,
      "outputs": []
    },
    {
      "cell_type": "code",
      "metadata": {
        "id": "XiSE9kBaO1t-",
        "colab_type": "code",
        "colab": {}
      },
      "source": [
        "tf_train = tf.data.Dataset.from_tensor_slices((x_norm_train_sample, x_norm_train_sample)).batch(batch_size).prefetch(tf.data.experimental.AUTOTUNE).shuffle(int(10e4))\n",
        "tf_val = tf.data.Dataset.from_tensor_slices((x_norm_val_sample, x_norm_val_sample)).batch(batch_size).prefetch(tf.data.experimental.AUTOTUNE).shuffle(int(10e4))"
      ],
      "execution_count": 0,
      "outputs": []
    },
    {
      "cell_type": "code",
      "metadata": {
        "id": "TS8485YAPHot",
        "colab_type": "code",
        "colab": {}
      },
      "source": [
        "#callbacks_list = [tf.keras.callbacks.ModelCheckpoint (filepath='bestmodel.h5', verbose=0, save_best_only=True),\n",
        "                  #tf.keras.callbacks.EarlyStopping(monitor='val_loss', mode='min', min_delta=0.005,  patience=20, verbose=0, restore_best_weights=True)]\n",
        "\n",
        "\"\"\"callbacks_list = tf.keras.callbacks.EarlyStopping(\n",
        "monitor='val_loss',\n",
        "patience=1,\n",
        ")\"\"\"\n",
        "\n",
        "\n",
        "\n",
        "\n",
        "checkpointer = tf.keras.callbacks.ModelCheckpoint(filepath='vae.weights.best.hdf5', verbose=0, save_best_only=True)\n",
        "\n",
        "\n",
        "\n",
        "\n",
        "earlystopper = tf.keras.callbacks.EarlyStopping(monitor='val_loss', mode='min', min_delta=0.005, patience=20, verbose=0, restore_best_weights=True)\n",
        "\n",
        "\n",
        "\n",
        "history = vae.fit(tf_train,\n",
        "               epochs=max_epochs,\n",
        "               shuffle=True,\n",
        "               verbose=0,\n",
        "               validation_data=tf_val,\n",
        "               callbacks=[checkpointer])\n",
        "\n",
        "\n",
        "\n"
      ],
      "execution_count": 0,
      "outputs": []
    },
    {
      "cell_type": "code",
      "metadata": {
        "id": "mpaNp1BVPNjE",
        "colab_type": "code",
        "colab": {}
      },
      "source": [
        "reconstruct_samples_n = 100\n",
        "\n",
        "def reconstruction_log_prob(eval_samples, reconstruct_samples_n):\n",
        "    encoder_out = encoder(eval_samples)\n",
        "    encoder_samples = encoder_out.sample(reconstruct_samples_n)\n",
        "    return np.mean(decoder(encoder_samples).log_prob(eval_samples), axis=0)"
      ],
      "execution_count": 0,
      "outputs": []
    },
    {
      "cell_type": "code",
      "metadata": {
        "id": "iuJKHw8nlEn-",
        "colab_type": "code",
        "colab": {}
      },
      "source": [
        "x_log_prob = reconstruction_log_prob(X, reconstruct_samples_n)\n",
        "ax = plt.hist([x_log_prob[Y==0], x_log_prob[Y==1]], 60)\n",
        "plt.title('reconstruction log probability')\n",
        "plt.ylabel('frequency')\n",
        "plt.xlabel(\"log p(x|x')\")\n",
        "plt.show()"
      ],
      "execution_count": 0,
      "outputs": []
    },
    {
      "cell_type": "code",
      "metadata": {
        "id": "H4tpZqD2RCpp",
        "colab_type": "code",
        "colab": {}
      },
      "source": [
        "fpr, tpr, thresh = roc_curve(Y, -x_log_prob)\n",
        "auc = roc_auc_score(Y, -x_log_prob)\n",
        "\n",
        "plt.plot(fpr,tpr,label=\"linear in-sample, auc=\"+str(auc))\n",
        "plt.title('VAE roc curve - training')\n",
        "plt.ylabel('True Positive Rate')\n",
        "plt.xlabel(\"False Positive Rate\")\n",
        "plt.legend(loc='best')\n",
        "plt.show()"
      ],
      "execution_count": 0,
      "outputs": []
    },
    {
      "cell_type": "markdown",
      "metadata": {
        "id": "MwS0g4ZBPdx_",
        "colab_type": "text"
      },
      "source": [
        "VAE Vs SVM \n",
        "Let's compare this with trivial supervised SVM classifier. "
      ]
    },
    {
      "cell_type": "code",
      "metadata": {
        "id": "s-8n1_UZPZYF",
        "colab_type": "code",
        "colab": {}
      },
      "source": [
        "from sklearn import svm \n",
        "clf =svm.SVC(gamma ='scale')\n",
        "clf.fit(X,Y)\n",
        "auc = roc_auc_score(Y, clf.predict(X))\n",
        "plt.plot(fpr,tpr,label=\"linear in-sample, auc=\"+str(auc))\n",
        "plt.title('SVM roc curve - training')\n",
        "plt.ylabel('True Positive Rate')\n",
        "plt.xlabel(\"False Positive Rate\")\n",
        "plt.legend(loc='best')\n",
        "plt.show()"
      ],
      "execution_count": 0,
      "outputs": []
    },
    {
      "cell_type": "markdown",
      "metadata": {
        "id": "9QGQPYYSSNqY",
        "colab_type": "text"
      },
      "source": [
        "Evaluation on Test Set "
      ]
    },
    {
      "cell_type": "code",
      "metadata": {
        "id": "zDAD3Zy6N9Iu",
        "colab_type": "code",
        "colab": {}
      },
      "source": [
        "x_test_log_prob = reconstruction_log_prob(data_test.drop(['Class'], axis = 1).values, reconstruct_samples_n)\n",
        "test_y = data_test[\"Class\"].values\n",
        "\n",
        "fpr, tpr, thresh = roc_curve(test_y, -x_test_log_prob)\n",
        "auc = roc_auc_score(test_y, -x_test_log_prob)\n",
        "\n",
        "plt.plot(fpr,tpr,label=\"linear in-sample, auc=\"+str(auc))\n",
        "plt.title('VAE roc curve - test')\n",
        "plt.ylabel('True Positive Rate')\n",
        "plt.xlabel(\"False Positive Rate\")\n",
        "plt.legend(loc='best')\n",
        "plt.show()"
      ],
      "execution_count": 0,
      "outputs": []
    },
    {
      "cell_type": "code",
      "metadata": {
        "id": "Lk_wMkFFZ2FH",
        "colab_type": "code",
        "colab": {}
      },
      "source": [
        "# "
      ],
      "execution_count": 0,
      "outputs": []
    },
    {
      "cell_type": "code",
      "metadata": {
        "id": "GmLWtRpGbtKn",
        "colab_type": "code",
        "colab": {}
      },
      "source": [
        "from tensorflow.keras import layers\n",
        "\n",
        "import numpy as np\n",
        "from tensorflow.keras.wrappers.scikit_learn import KerasClassifier\n",
        "from sklearn.ensemble import VotingClassifier\n",
        "from sklearn.metrics import accuracy_score,confusion_matrix, accuracy_score, precision_score, recall_score, f1_score, roc_curve\n",
        "\n"
      ],
      "execution_count": 0,
      "outputs": []
    },
    {
      "cell_type": "code",
      "metadata": {
        "id": "kylXN4RObuqT",
        "colab_type": "code",
        "colab": {}
      },
      "source": [
        "# create the training datasets\n",
        "dx_train = tf.data.Dataset.from_tensor_slices(X_train)\n",
        "# apply a one-hot transformation to each label for use in the neural network\n",
        "dy_train = tf.data.Dataset.from_tensor_slices(y_train)\n",
        "# zip the x and y training data together and shuffle, batch etc.\n",
        "train_dataset = tf.data.Dataset.zip((dx_train, dy_train)).shuffle(500).repeat().batch(8)"
      ],
      "execution_count": 0,
      "outputs": []
    },
    {
      "cell_type": "code",
      "metadata": {
        "id": "SejLmhBpcP5I",
        "colab_type": "code",
        "colab": {}
      },
      "source": [
        "# do the same operations for the validation set\n",
        "dx_valid = tf.data.Dataset.from_tensor_slices(X_test)\n",
        "dy_valid = tf.data.Dataset.from_tensor_slices(y_test)\n",
        "valid_dataset = tf.data.Dataset.zip((dx_valid, dy_valid)).shuffle(500).repeat().batch(30)"
      ],
      "execution_count": 0,
      "outputs": []
    },
    {
      "cell_type": "code",
      "metadata": {
        "id": "jLRMBsqTcS6d",
        "colab_type": "code",
        "colab": {}
      },
      "source": [
        "def mlp_model():\n",
        "    model = keras.Sequential([\n",
        "    layers.Dense(64, activation='relu', kernel_initializer='he_normal', input_shape=X_train.shape[1]),\n",
        "    layers.BatchNormalization(),\n",
        "    layers.Dropout(0.2),\n",
        "    layers.Dense(64, activation='relu', kernel_initializer='he_normal'),\n",
        "    layers.BatchNormalization(),\n",
        "    layers.Dropout(0.2),\n",
        "    layers.Dense(64, activation='relu', kernel_initializer='he_normal'),\n",
        "    layers.BatchNormalization(),\n",
        "    layers.Dropout(0.2),\n",
        "    layers.Dense(10, activation='softmax')\n",
        "    ])\n",
        "    model.compile(optimizer=keras.optimizers.SGD(),\n",
        "             loss=keras.losses.SparseCategoricalCrossentropy(),\n",
        "             metrics=['accuracy'])\n",
        "    return model\n",
        "model1 = KerasClassifier(build_fn=mlp_model, epochs=100, verbose=0)\n",
        "model2 = KerasClassifier(build_fn=mlp_model, epochs=100, verbose=0)\n",
        "model3 = KerasClassifier(build_fn=mlp_model, epochs=100, verbose=0)\n",
        "model4 = KerasClassifier(build_fn=mlp_model, epochs=100, verbose=0)\n",
        "ensemble_clf = VotingClassifier(estimators=[\n",
        "    ('model1', model1), ('model2', model2), ('model3', model3),('model4', model4)])"
      ],
      "execution_count": 0,
      "outputs": []
    },
    {
      "cell_type": "code",
      "metadata": {
        "id": "-wwe09UScaqr",
        "colab_type": "code",
        "colab": {}
      },
      "source": [
        "ensemble_clf.fit(train_dataset, epochs =100, steps_per_epoch=1000, validation_steps =3)"
      ],
      "execution_count": 0,
      "outputs": []
    },
    {
      "cell_type": "code",
      "metadata": {
        "id": "sNMWyEfOcegn",
        "colab_type": "code",
        "colab": {}
      },
      "source": [
        "y_predict = ensemble_clf.predict(X_test)\n",
        "print('acc: ', accuracy_scoreecuracy_scorecuracy_score(y_pred, y_test))"
      ],
      "execution_count": 0,
      "outputs": []
    }
  ]
}